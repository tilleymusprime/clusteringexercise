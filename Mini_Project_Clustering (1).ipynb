{
 "cells": [
  {
   "cell_type": "markdown",
   "metadata": {},
   "source": [
    "# Customer Segmentation using Clustering\n",
    "***\n",
    "This mini-project is based on [this blog post](http://blog.yhat.com/posts/customer-segmentation-using-python.html) by yhat. Please feel free to refer to the post for additional information, and solutions."
   ]
  },
  {
   "cell_type": "code",
   "execution_count": 29,
   "metadata": {},
   "outputs": [],
   "source": [
    "%matplotlib inline\n",
    "import pandas as pd\n",
    "import sklearn\n",
    "import matplotlib.pyplot as plt\n",
    "import seaborn as sns\n",
    "import numpy as np\n",
    "# Setup Seaborn\n",
    "sns.set_style(\"whitegrid\")\n",
    "sns.set_context(\"poster\")"
   ]
  },
  {
   "cell_type": "markdown",
   "metadata": {},
   "source": [
    "## Data\n",
    "\n",
    "The dataset contains information on marketing newsletters/e-mail campaigns (e-mail offers sent to customers) and transaction level data from customers. The transactional data shows which offer customers responded to, and what the customer ended up buying. The data is presented as an Excel workbook containing two worksheets. Each worksheet contains a different dataset."
   ]
  },
  {
   "cell_type": "code",
   "execution_count": 30,
   "metadata": {},
   "outputs": [
    {
     "data": {
      "text/html": [
       "<div>\n",
       "<style scoped>\n",
       "    .dataframe tbody tr th:only-of-type {\n",
       "        vertical-align: middle;\n",
       "    }\n",
       "\n",
       "    .dataframe tbody tr th {\n",
       "        vertical-align: top;\n",
       "    }\n",
       "\n",
       "    .dataframe thead th {\n",
       "        text-align: right;\n",
       "    }\n",
       "</style>\n",
       "<table border=\"1\" class=\"dataframe\">\n",
       "  <thead>\n",
       "    <tr style=\"text-align: right;\">\n",
       "      <th></th>\n",
       "      <th>offer_id</th>\n",
       "      <th>campaign</th>\n",
       "      <th>varietal</th>\n",
       "      <th>min_qty</th>\n",
       "      <th>discount</th>\n",
       "      <th>origin</th>\n",
       "      <th>past_peak</th>\n",
       "    </tr>\n",
       "  </thead>\n",
       "  <tbody>\n",
       "    <tr>\n",
       "      <th>0</th>\n",
       "      <td>1</td>\n",
       "      <td>January</td>\n",
       "      <td>Malbec</td>\n",
       "      <td>72</td>\n",
       "      <td>56</td>\n",
       "      <td>France</td>\n",
       "      <td>False</td>\n",
       "    </tr>\n",
       "    <tr>\n",
       "      <th>1</th>\n",
       "      <td>2</td>\n",
       "      <td>January</td>\n",
       "      <td>Pinot Noir</td>\n",
       "      <td>72</td>\n",
       "      <td>17</td>\n",
       "      <td>France</td>\n",
       "      <td>False</td>\n",
       "    </tr>\n",
       "    <tr>\n",
       "      <th>2</th>\n",
       "      <td>3</td>\n",
       "      <td>February</td>\n",
       "      <td>Espumante</td>\n",
       "      <td>144</td>\n",
       "      <td>32</td>\n",
       "      <td>Oregon</td>\n",
       "      <td>True</td>\n",
       "    </tr>\n",
       "    <tr>\n",
       "      <th>3</th>\n",
       "      <td>4</td>\n",
       "      <td>February</td>\n",
       "      <td>Champagne</td>\n",
       "      <td>72</td>\n",
       "      <td>48</td>\n",
       "      <td>France</td>\n",
       "      <td>True</td>\n",
       "    </tr>\n",
       "    <tr>\n",
       "      <th>4</th>\n",
       "      <td>5</td>\n",
       "      <td>February</td>\n",
       "      <td>Cabernet Sauvignon</td>\n",
       "      <td>144</td>\n",
       "      <td>44</td>\n",
       "      <td>New Zealand</td>\n",
       "      <td>True</td>\n",
       "    </tr>\n",
       "  </tbody>\n",
       "</table>\n",
       "</div>"
      ],
      "text/plain": [
       "   offer_id  campaign            varietal  min_qty  discount       origin  \\\n",
       "0         1   January              Malbec       72        56       France   \n",
       "1         2   January          Pinot Noir       72        17       France   \n",
       "2         3  February           Espumante      144        32       Oregon   \n",
       "3         4  February           Champagne       72        48       France   \n",
       "4         5  February  Cabernet Sauvignon      144        44  New Zealand   \n",
       "\n",
       "   past_peak  \n",
       "0      False  \n",
       "1      False  \n",
       "2       True  \n",
       "3       True  \n",
       "4       True  "
      ]
     },
     "execution_count": 30,
     "metadata": {},
     "output_type": "execute_result"
    }
   ],
   "source": [
    "df_offers = pd.read_excel(\"C:\\\\Users\\\\tilleymusprime\\\\Desktop\\\\WineKMC.xlsx\", sheet_name=0)\n",
    "df_offers.columns = [\"offer_id\", \"campaign\", \"varietal\", \"min_qty\", \"discount\", \"origin\", \"past_peak\"]\n",
    "df_offers.head()"
   ]
  },
  {
   "cell_type": "markdown",
   "metadata": {},
   "source": [
    "We see that the first dataset contains information about each offer such as the month it is in effect and several attributes about the wine that the offer refers to: the variety, minimum quantity, discount, country of origin and whether or not it is past peak. The second dataset in the second worksheet contains transactional data -- which offer each customer responded to."
   ]
  },
  {
   "cell_type": "code",
   "execution_count": 31,
   "metadata": {},
   "outputs": [
    {
     "data": {
      "text/html": [
       "<div>\n",
       "<style scoped>\n",
       "    .dataframe tbody tr th:only-of-type {\n",
       "        vertical-align: middle;\n",
       "    }\n",
       "\n",
       "    .dataframe tbody tr th {\n",
       "        vertical-align: top;\n",
       "    }\n",
       "\n",
       "    .dataframe thead th {\n",
       "        text-align: right;\n",
       "    }\n",
       "</style>\n",
       "<table border=\"1\" class=\"dataframe\">\n",
       "  <thead>\n",
       "    <tr style=\"text-align: right;\">\n",
       "      <th></th>\n",
       "      <th>customer_name</th>\n",
       "      <th>offer_id</th>\n",
       "      <th>n</th>\n",
       "    </tr>\n",
       "  </thead>\n",
       "  <tbody>\n",
       "    <tr>\n",
       "      <th>0</th>\n",
       "      <td>Smith</td>\n",
       "      <td>2</td>\n",
       "      <td>1</td>\n",
       "    </tr>\n",
       "    <tr>\n",
       "      <th>1</th>\n",
       "      <td>Smith</td>\n",
       "      <td>24</td>\n",
       "      <td>1</td>\n",
       "    </tr>\n",
       "    <tr>\n",
       "      <th>2</th>\n",
       "      <td>Johnson</td>\n",
       "      <td>17</td>\n",
       "      <td>1</td>\n",
       "    </tr>\n",
       "    <tr>\n",
       "      <th>3</th>\n",
       "      <td>Johnson</td>\n",
       "      <td>24</td>\n",
       "      <td>1</td>\n",
       "    </tr>\n",
       "    <tr>\n",
       "      <th>4</th>\n",
       "      <td>Johnson</td>\n",
       "      <td>26</td>\n",
       "      <td>1</td>\n",
       "    </tr>\n",
       "  </tbody>\n",
       "</table>\n",
       "</div>"
      ],
      "text/plain": [
       "  customer_name  offer_id  n\n",
       "0         Smith         2  1\n",
       "1         Smith        24  1\n",
       "2       Johnson        17  1\n",
       "3       Johnson        24  1\n",
       "4       Johnson        26  1"
      ]
     },
     "execution_count": 31,
     "metadata": {},
     "output_type": "execute_result"
    }
   ],
   "source": [
    "df_transactions = pd.read_excel(\"C:\\\\Users\\\\tilleymusprime\\\\Desktop\\\\WineKMC.xlsx\", sheet_name=1)\n",
    "df_transactions.columns = [\"customer_name\", \"offer_id\"]\n",
    "df_transactions['n'] = 1\n",
    "df_transactions.head()"
   ]
  },
  {
   "cell_type": "markdown",
   "metadata": {},
   "source": [
    "## Data wrangling"
   ]
  },
  {
   "cell_type": "markdown",
   "metadata": {},
   "source": [
    "We're trying to learn more about how our customers behave, so we can use their behavior (whether or not they purchased something based on an offer) as a way to group similar minded customers together. We can then study those groups to look for patterns and trends which can help us formulate future offers.\n",
    "\n",
    "The first thing we need is a way to compare customers. To do this, we're going to create a matrix that contains each customer and a 0/1 indicator for whether or not they responded to a given offer. "
   ]
  },
  {
   "cell_type": "markdown",
   "metadata": {},
   "source": [
    "<div class=\"span5 alert alert-info\">\n",
    "<h3>Checkup Exercise Set I</h3>\n",
    "\n",
    "<p><b>Exercise:</b> Create a data frame where each row has the following columns (Use the pandas [`merge`](http://pandas.pydata.org/pandas-docs/stable/generated/pandas.DataFrame.merge.html) and [`pivot_table`](http://pandas.pydata.org/pandas-docs/stable/generated/pandas.pivot_table.html) functions for this purpose):\n",
    "<ul>\n",
    "<li> customer_name\n",
    "<li> One column for each offer, with a 1 if the customer responded to the offer\n",
    "</ul>\n",
    "<p>Make sure you also deal with any weird values such as `NaN`. Read the documentation to develop your solution.</p>\n",
    "</div>"
   ]
  },
  {
   "cell_type": "code",
   "execution_count": 105,
   "metadata": {
    "scrolled": true
   },
   "outputs": [
    {
     "data": {
      "text/html": [
       "<div>\n",
       "<style scoped>\n",
       "    .dataframe tbody tr th:only-of-type {\n",
       "        vertical-align: middle;\n",
       "    }\n",
       "\n",
       "    .dataframe tbody tr th {\n",
       "        vertical-align: top;\n",
       "    }\n",
       "\n",
       "    .dataframe thead th {\n",
       "        text-align: right;\n",
       "    }\n",
       "</style>\n",
       "<table border=\"1\" class=\"dataframe\">\n",
       "  <thead>\n",
       "    <tr style=\"text-align: right;\">\n",
       "      <th>offer_id</th>\n",
       "      <th>customer_name</th>\n",
       "      <th>1</th>\n",
       "      <th>2</th>\n",
       "      <th>3</th>\n",
       "      <th>4</th>\n",
       "      <th>5</th>\n",
       "      <th>6</th>\n",
       "      <th>7</th>\n",
       "      <th>8</th>\n",
       "      <th>9</th>\n",
       "      <th>...</th>\n",
       "      <th>23</th>\n",
       "      <th>24</th>\n",
       "      <th>25</th>\n",
       "      <th>26</th>\n",
       "      <th>27</th>\n",
       "      <th>28</th>\n",
       "      <th>29</th>\n",
       "      <th>30</th>\n",
       "      <th>31</th>\n",
       "      <th>32</th>\n",
       "    </tr>\n",
       "  </thead>\n",
       "  <tbody>\n",
       "    <tr>\n",
       "      <th>0</th>\n",
       "      <td>Adams</td>\n",
       "      <td>0.0</td>\n",
       "      <td>0.0</td>\n",
       "      <td>0.0</td>\n",
       "      <td>0.0</td>\n",
       "      <td>0.0</td>\n",
       "      <td>0.0</td>\n",
       "      <td>0.0</td>\n",
       "      <td>0.0</td>\n",
       "      <td>0.0</td>\n",
       "      <td>...</td>\n",
       "      <td>0.0</td>\n",
       "      <td>0.0</td>\n",
       "      <td>0.0</td>\n",
       "      <td>0.0</td>\n",
       "      <td>0.0</td>\n",
       "      <td>0.0</td>\n",
       "      <td>1.0</td>\n",
       "      <td>1.0</td>\n",
       "      <td>0.0</td>\n",
       "      <td>0.0</td>\n",
       "    </tr>\n",
       "    <tr>\n",
       "      <th>1</th>\n",
       "      <td>Allen</td>\n",
       "      <td>0.0</td>\n",
       "      <td>0.0</td>\n",
       "      <td>0.0</td>\n",
       "      <td>0.0</td>\n",
       "      <td>0.0</td>\n",
       "      <td>0.0</td>\n",
       "      <td>0.0</td>\n",
       "      <td>0.0</td>\n",
       "      <td>1.0</td>\n",
       "      <td>...</td>\n",
       "      <td>0.0</td>\n",
       "      <td>0.0</td>\n",
       "      <td>0.0</td>\n",
       "      <td>0.0</td>\n",
       "      <td>1.0</td>\n",
       "      <td>0.0</td>\n",
       "      <td>0.0</td>\n",
       "      <td>0.0</td>\n",
       "      <td>0.0</td>\n",
       "      <td>0.0</td>\n",
       "    </tr>\n",
       "    <tr>\n",
       "      <th>2</th>\n",
       "      <td>Anderson</td>\n",
       "      <td>0.0</td>\n",
       "      <td>0.0</td>\n",
       "      <td>0.0</td>\n",
       "      <td>0.0</td>\n",
       "      <td>0.0</td>\n",
       "      <td>0.0</td>\n",
       "      <td>0.0</td>\n",
       "      <td>0.0</td>\n",
       "      <td>0.0</td>\n",
       "      <td>...</td>\n",
       "      <td>0.0</td>\n",
       "      <td>1.0</td>\n",
       "      <td>0.0</td>\n",
       "      <td>1.0</td>\n",
       "      <td>0.0</td>\n",
       "      <td>0.0</td>\n",
       "      <td>0.0</td>\n",
       "      <td>0.0</td>\n",
       "      <td>0.0</td>\n",
       "      <td>0.0</td>\n",
       "    </tr>\n",
       "    <tr>\n",
       "      <th>3</th>\n",
       "      <td>Bailey</td>\n",
       "      <td>0.0</td>\n",
       "      <td>0.0</td>\n",
       "      <td>0.0</td>\n",
       "      <td>0.0</td>\n",
       "      <td>0.0</td>\n",
       "      <td>0.0</td>\n",
       "      <td>1.0</td>\n",
       "      <td>0.0</td>\n",
       "      <td>0.0</td>\n",
       "      <td>...</td>\n",
       "      <td>0.0</td>\n",
       "      <td>0.0</td>\n",
       "      <td>0.0</td>\n",
       "      <td>0.0</td>\n",
       "      <td>0.0</td>\n",
       "      <td>0.0</td>\n",
       "      <td>0.0</td>\n",
       "      <td>1.0</td>\n",
       "      <td>0.0</td>\n",
       "      <td>0.0</td>\n",
       "    </tr>\n",
       "    <tr>\n",
       "      <th>4</th>\n",
       "      <td>Baker</td>\n",
       "      <td>0.0</td>\n",
       "      <td>0.0</td>\n",
       "      <td>0.0</td>\n",
       "      <td>0.0</td>\n",
       "      <td>0.0</td>\n",
       "      <td>0.0</td>\n",
       "      <td>1.0</td>\n",
       "      <td>0.0</td>\n",
       "      <td>0.0</td>\n",
       "      <td>...</td>\n",
       "      <td>0.0</td>\n",
       "      <td>0.0</td>\n",
       "      <td>0.0</td>\n",
       "      <td>0.0</td>\n",
       "      <td>0.0</td>\n",
       "      <td>0.0</td>\n",
       "      <td>0.0</td>\n",
       "      <td>0.0</td>\n",
       "      <td>1.0</td>\n",
       "      <td>0.0</td>\n",
       "    </tr>\n",
       "  </tbody>\n",
       "</table>\n",
       "<p>5 rows × 33 columns</p>\n",
       "</div>"
      ],
      "text/plain": [
       "offer_id customer_name    1    2    3    4    5    6    7    8    9 ...    23  \\\n",
       "0                Adams  0.0  0.0  0.0  0.0  0.0  0.0  0.0  0.0  0.0 ...   0.0   \n",
       "1                Allen  0.0  0.0  0.0  0.0  0.0  0.0  0.0  0.0  1.0 ...   0.0   \n",
       "2             Anderson  0.0  0.0  0.0  0.0  0.0  0.0  0.0  0.0  0.0 ...   0.0   \n",
       "3               Bailey  0.0  0.0  0.0  0.0  0.0  0.0  1.0  0.0  0.0 ...   0.0   \n",
       "4                Baker  0.0  0.0  0.0  0.0  0.0  0.0  1.0  0.0  0.0 ...   0.0   \n",
       "\n",
       "offer_id   24   25   26   27   28   29   30   31   32  \n",
       "0         0.0  0.0  0.0  0.0  0.0  1.0  1.0  0.0  0.0  \n",
       "1         0.0  0.0  0.0  1.0  0.0  0.0  0.0  0.0  0.0  \n",
       "2         1.0  0.0  1.0  0.0  0.0  0.0  0.0  0.0  0.0  \n",
       "3         0.0  0.0  0.0  0.0  0.0  0.0  1.0  0.0  0.0  \n",
       "4         0.0  0.0  0.0  0.0  0.0  0.0  0.0  1.0  0.0  \n",
       "\n",
       "[5 rows x 33 columns]"
      ]
     },
     "execution_count": 105,
     "metadata": {},
     "output_type": "execute_result"
    }
   ],
   "source": [
    "#your turn\n",
    "df = pd.merge(df_offers, df_transactions)\n",
    "matrix = df.pivot_table(index=['customer_name'], columns=['offer_id'], values='n')\n",
    "matrix = matrix.fillna(0).reset_index()\n",
    "x_cols = matrix.columns[1:]\n",
    "matrix.head()"
   ]
  },
  {
   "cell_type": "code",
   "execution_count": 33,
   "metadata": {},
   "outputs": [
    {
     "data": {
      "text/plain": [
       "Index([ 1,  2,  3,  4,  5,  6,  7,  8,  9, 10, 11, 12, 13, 14, 15, 16, 17, 18,\n",
       "       19, 20, 21, 22, 23, 24, 25, 26, 27, 28, 29, 30, 31, 32],\n",
       "      dtype='object', name='offer_id')"
      ]
     },
     "execution_count": 33,
     "metadata": {},
     "output_type": "execute_result"
    }
   ],
   "source": [
    "x_cols"
   ]
  },
  {
   "cell_type": "code",
   "execution_count": 34,
   "metadata": {},
   "outputs": [
    {
     "data": {
      "text/plain": [
       "2    48\n",
       "0    36\n",
       "1    16\n",
       "Name: cluster, dtype: int64"
      ]
     },
     "execution_count": 34,
     "metadata": {},
     "output_type": "execute_result"
    }
   ],
   "source": [
    "from sklearn.cluster import KMeans\n",
    "\n",
    "cluster = KMeans(n_clusters=3)\n",
    "# slice matrix so we only include the 0/1 indicator columns in the clustering\n",
    "matrix['cluster'] = cluster.fit_predict(matrix[matrix.columns[2:]])\n",
    "matrix.cluster.value_counts()"
   ]
  },
  {
   "cell_type": "markdown",
   "metadata": {},
   "source": [
    "## K-Means Clustering\n",
    "\n",
    "Recall that in K-Means Clustering we want to *maximize* the distance between centroids and *minimize* the distance between data points and the respective centroid for the cluster they are in. True evaluation for unsupervised learning would require labeled data; however, we can use a variety of intuitive metrics to try to pick the number of clusters K. We will introduce two methods: the Elbow method, the Silhouette method and the gap statistic."
   ]
  },
  {
   "cell_type": "markdown",
   "metadata": {},
   "source": [
    "### Choosing K: The Elbow Sum-of-Squares Method\n",
    "\n",
    "The first method looks at the sum-of-squares error in each cluster against $K$. We compute the distance from each data point to the center of the cluster (centroid) to which the data point was assigned. \n",
    "\n",
    "$$SS = \\sum_k \\sum_{x_i \\in C_k} \\sum_{x_j \\in C_k} \\left( x_i - x_j \\right)^2 = \\sum_k \\sum_{x_i \\in C_k} \\left( x_i - \\mu_k \\right)^2$$\n",
    "\n",
    "where $x_i$ is a point, $C_k$ represents cluster $k$ and $\\mu_k$ is the centroid for cluster $k$. We can plot SS vs. $K$ and choose the *elbow point* in the plot as the best value for $K$. The elbow point is the point at which the plot starts descending much more slowly. "
   ]
  },
  {
   "cell_type": "markdown",
   "metadata": {},
   "source": [
    "<div class=\"span5 alert alert-info\">\n",
    "<h3>Checkup Exercise Set II</h3>\n",
    "\n",
    "<p><b>Exercise:</b></p> \n",
    "<ul>\n",
    "<li> What values of $SS$ do you believe represent better clusterings? Why?\n",
    "<li> Create a numpy matrix `x_cols` with only the columns representing the offers (i.e. the 0/1 colums) \n",
    "<li> Write code that applies the [`KMeans`](http://scikit-learn.org/stable/modules/generated/sklearn.cluster.KMeans.html) clustering method from scikit-learn to this matrix. \n",
    "<li> Construct a plot showing $SS$ for each $K$ and pick $K$ using this plot. For simplicity, test $2 \\le K \\le 10$.\n",
    "<li> Make a bar chart showing the number of points in each cluster for k-means under the best $K$.\n",
    "<li> What challenges did you experience using the Elbow method to pick $K$?\n",
    "</ul>\n",
    "</div>"
   ]
  },
  {
   "cell_type": "code",
   "execution_count": 35,
   "metadata": {},
   "outputs": [
    {
     "data": {
      "text/html": [
       "<div>\n",
       "<style scoped>\n",
       "    .dataframe tbody tr th:only-of-type {\n",
       "        vertical-align: middle;\n",
       "    }\n",
       "\n",
       "    .dataframe tbody tr th {\n",
       "        vertical-align: top;\n",
       "    }\n",
       "\n",
       "    .dataframe thead th {\n",
       "        text-align: right;\n",
       "    }\n",
       "</style>\n",
       "<table border=\"1\" class=\"dataframe\">\n",
       "  <thead>\n",
       "    <tr style=\"text-align: right;\">\n",
       "      <th>offer_id</th>\n",
       "      <th>customer_name</th>\n",
       "      <th>1</th>\n",
       "      <th>2</th>\n",
       "      <th>3</th>\n",
       "      <th>4</th>\n",
       "      <th>5</th>\n",
       "      <th>6</th>\n",
       "      <th>7</th>\n",
       "      <th>8</th>\n",
       "      <th>9</th>\n",
       "      <th>...</th>\n",
       "      <th>24</th>\n",
       "      <th>25</th>\n",
       "      <th>26</th>\n",
       "      <th>27</th>\n",
       "      <th>28</th>\n",
       "      <th>29</th>\n",
       "      <th>30</th>\n",
       "      <th>31</th>\n",
       "      <th>32</th>\n",
       "      <th>cluster</th>\n",
       "    </tr>\n",
       "  </thead>\n",
       "  <tbody>\n",
       "    <tr>\n",
       "      <th>0</th>\n",
       "      <td>Adams</td>\n",
       "      <td>0.0</td>\n",
       "      <td>0.0</td>\n",
       "      <td>0.0</td>\n",
       "      <td>0.0</td>\n",
       "      <td>0.0</td>\n",
       "      <td>0.0</td>\n",
       "      <td>0.0</td>\n",
       "      <td>0.0</td>\n",
       "      <td>0.0</td>\n",
       "      <td>...</td>\n",
       "      <td>0.0</td>\n",
       "      <td>0.0</td>\n",
       "      <td>0.0</td>\n",
       "      <td>0.0</td>\n",
       "      <td>0.0</td>\n",
       "      <td>1.0</td>\n",
       "      <td>1.0</td>\n",
       "      <td>0.0</td>\n",
       "      <td>0.0</td>\n",
       "      <td>0</td>\n",
       "    </tr>\n",
       "    <tr>\n",
       "      <th>1</th>\n",
       "      <td>Allen</td>\n",
       "      <td>0.0</td>\n",
       "      <td>0.0</td>\n",
       "      <td>0.0</td>\n",
       "      <td>0.0</td>\n",
       "      <td>0.0</td>\n",
       "      <td>0.0</td>\n",
       "      <td>0.0</td>\n",
       "      <td>0.0</td>\n",
       "      <td>1.0</td>\n",
       "      <td>...</td>\n",
       "      <td>0.0</td>\n",
       "      <td>0.0</td>\n",
       "      <td>0.0</td>\n",
       "      <td>1.0</td>\n",
       "      <td>0.0</td>\n",
       "      <td>0.0</td>\n",
       "      <td>0.0</td>\n",
       "      <td>0.0</td>\n",
       "      <td>0.0</td>\n",
       "      <td>2</td>\n",
       "    </tr>\n",
       "    <tr>\n",
       "      <th>2</th>\n",
       "      <td>Anderson</td>\n",
       "      <td>0.0</td>\n",
       "      <td>0.0</td>\n",
       "      <td>0.0</td>\n",
       "      <td>0.0</td>\n",
       "      <td>0.0</td>\n",
       "      <td>0.0</td>\n",
       "      <td>0.0</td>\n",
       "      <td>0.0</td>\n",
       "      <td>0.0</td>\n",
       "      <td>...</td>\n",
       "      <td>1.0</td>\n",
       "      <td>0.0</td>\n",
       "      <td>1.0</td>\n",
       "      <td>0.0</td>\n",
       "      <td>0.0</td>\n",
       "      <td>0.0</td>\n",
       "      <td>0.0</td>\n",
       "      <td>0.0</td>\n",
       "      <td>0.0</td>\n",
       "      <td>1</td>\n",
       "    </tr>\n",
       "    <tr>\n",
       "      <th>3</th>\n",
       "      <td>Bailey</td>\n",
       "      <td>0.0</td>\n",
       "      <td>0.0</td>\n",
       "      <td>0.0</td>\n",
       "      <td>0.0</td>\n",
       "      <td>0.0</td>\n",
       "      <td>0.0</td>\n",
       "      <td>1.0</td>\n",
       "      <td>0.0</td>\n",
       "      <td>0.0</td>\n",
       "      <td>...</td>\n",
       "      <td>0.0</td>\n",
       "      <td>0.0</td>\n",
       "      <td>0.0</td>\n",
       "      <td>0.0</td>\n",
       "      <td>0.0</td>\n",
       "      <td>0.0</td>\n",
       "      <td>1.0</td>\n",
       "      <td>0.0</td>\n",
       "      <td>0.0</td>\n",
       "      <td>0</td>\n",
       "    </tr>\n",
       "    <tr>\n",
       "      <th>4</th>\n",
       "      <td>Baker</td>\n",
       "      <td>0.0</td>\n",
       "      <td>0.0</td>\n",
       "      <td>0.0</td>\n",
       "      <td>0.0</td>\n",
       "      <td>0.0</td>\n",
       "      <td>0.0</td>\n",
       "      <td>1.0</td>\n",
       "      <td>0.0</td>\n",
       "      <td>0.0</td>\n",
       "      <td>...</td>\n",
       "      <td>0.0</td>\n",
       "      <td>0.0</td>\n",
       "      <td>0.0</td>\n",
       "      <td>0.0</td>\n",
       "      <td>0.0</td>\n",
       "      <td>0.0</td>\n",
       "      <td>0.0</td>\n",
       "      <td>1.0</td>\n",
       "      <td>0.0</td>\n",
       "      <td>2</td>\n",
       "    </tr>\n",
       "  </tbody>\n",
       "</table>\n",
       "<p>5 rows × 34 columns</p>\n",
       "</div>"
      ],
      "text/plain": [
       "offer_id customer_name    1    2    3    4    5    6    7    8    9   ...     \\\n",
       "0                Adams  0.0  0.0  0.0  0.0  0.0  0.0  0.0  0.0  0.0   ...      \n",
       "1                Allen  0.0  0.0  0.0  0.0  0.0  0.0  0.0  0.0  1.0   ...      \n",
       "2             Anderson  0.0  0.0  0.0  0.0  0.0  0.0  0.0  0.0  0.0   ...      \n",
       "3               Bailey  0.0  0.0  0.0  0.0  0.0  0.0  1.0  0.0  0.0   ...      \n",
       "4                Baker  0.0  0.0  0.0  0.0  0.0  0.0  1.0  0.0  0.0   ...      \n",
       "\n",
       "offer_id   24   25   26   27   28   29   30   31   32  cluster  \n",
       "0         0.0  0.0  0.0  0.0  0.0  1.0  1.0  0.0  0.0        0  \n",
       "1         0.0  0.0  0.0  1.0  0.0  0.0  0.0  0.0  0.0        2  \n",
       "2         1.0  0.0  1.0  0.0  0.0  0.0  0.0  0.0  0.0        1  \n",
       "3         0.0  0.0  0.0  0.0  0.0  0.0  1.0  0.0  0.0        0  \n",
       "4         0.0  0.0  0.0  0.0  0.0  0.0  0.0  1.0  0.0        2  \n",
       "\n",
       "[5 rows x 34 columns]"
      ]
     },
     "execution_count": 35,
     "metadata": {},
     "output_type": "execute_result"
    }
   ],
   "source": [
    "matrix.head()"
   ]
  },
  {
   "cell_type": "code",
   "execution_count": 36,
   "metadata": {},
   "outputs": [
    {
     "data": {
      "image/png": "[encoded data removed]",
      "text/plain": [
       "<matplotlib.figure.Figure at 0x1a259c2b048>"
      ]
     },
     "metadata": {},
     "output_type": "display_data"
    }
   ],
   "source": [
    "#your turn\n",
    "ks = range(1,11)\n",
    "inertias = []\n",
    "\n",
    "for k in ks:\n",
    "    # Create a KMeans instance with k clusters: model\n",
    "    model = KMeans(n_clusters=k)\n",
    "    \n",
    "    # Fit model to samples\n",
    "    model.fit(matrix[x_cols])\n",
    "    \n",
    "    # Append the inertia to the list of inertias\n",
    "    inertias.append(model.inertia_)\n",
    "    \n",
    "# Plot ks vs inertias\n",
    "plt.plot(ks, inertias, '-o')\n",
    "plt.xlabel('number of clusters, k')\n",
    "plt.ylabel('inertia')\n",
    "plt.xticks(ks)\n",
    "plt.show()"
   ]
  },
  {
   "cell_type": "code",
   "execution_count": null,
   "metadata": {},
   "outputs": [],
   "source": []
  },
  {
   "cell_type": "code",
   "execution_count": 37,
   "metadata": {},
   "outputs": [],
   "source": [
    "#It looks like 2 clusters has the greatest reduction in ss but there are really diminishing returns after 3 clusters.\n",
    "#Because of this, we will say the optimal number of clusters here is 3\n",
    "#The biggest challenge with the elbow method is picking between two clusters.  You can really make an argument for either \n",
    "#2 clusters or 3 clusters\n"
   ]
  },
  {
   "cell_type": "code",
   "execution_count": 110,
   "metadata": {},
   "outputs": [
    {
     "data": {
      "text/plain": [
       "2    55\n",
       "1    30\n",
       "0    15\n",
       "Name: cluster, dtype: int64"
      ]
     },
     "execution_count": 110,
     "metadata": {},
     "output_type": "execute_result"
    }
   ],
   "source": [
    "from sklearn.cluster import KMeans\n",
    "\n",
    "cluster = KMeans(n_clusters=3)\n",
    "# slice matrix so we only include the 0/1 indicator columns in the clustering\n",
    "matrix['cluster'] = cluster.fit_predict(matrix[x_cols])\n",
    "matrix.cluster.value_counts()"
   ]
  },
  {
   "cell_type": "code",
   "execution_count": 120,
   "metadata": {},
   "outputs": [
    {
     "data": {
      "text/html": [
       "<div>\n",
       "<style scoped>\n",
       "    .dataframe tbody tr th:only-of-type {\n",
       "        vertical-align: middle;\n",
       "    }\n",
       "\n",
       "    .dataframe tbody tr th {\n",
       "        vertical-align: top;\n",
       "    }\n",
       "\n",
       "    .dataframe thead th {\n",
       "        text-align: right;\n",
       "    }\n",
       "</style>\n",
       "<table border=\"1\" class=\"dataframe\">\n",
       "  <thead>\n",
       "    <tr style=\"text-align: right;\">\n",
       "      <th>offer_id</th>\n",
       "      <th>level_0</th>\n",
       "      <th>index</th>\n",
       "      <th>customer_name</th>\n",
       "      <th>1</th>\n",
       "      <th>2</th>\n",
       "      <th>3</th>\n",
       "      <th>4</th>\n",
       "      <th>5</th>\n",
       "      <th>6</th>\n",
       "      <th>7</th>\n",
       "      <th>...</th>\n",
       "      <th>26</th>\n",
       "      <th>27</th>\n",
       "      <th>28</th>\n",
       "      <th>29</th>\n",
       "      <th>30</th>\n",
       "      <th>31</th>\n",
       "      <th>32</th>\n",
       "      <th>x</th>\n",
       "      <th>y</th>\n",
       "      <th>cluster</th>\n",
       "    </tr>\n",
       "  </thead>\n",
       "  <tbody>\n",
       "    <tr>\n",
       "      <th>0</th>\n",
       "      <td>0</td>\n",
       "      <td>0</td>\n",
       "      <td>Adams</td>\n",
       "      <td>0.0</td>\n",
       "      <td>0.0</td>\n",
       "      <td>0.0</td>\n",
       "      <td>0.0</td>\n",
       "      <td>0.0</td>\n",
       "      <td>0.0</td>\n",
       "      <td>0.0</td>\n",
       "      <td>...</td>\n",
       "      <td>0.0</td>\n",
       "      <td>0.0</td>\n",
       "      <td>0.0</td>\n",
       "      <td>1.0</td>\n",
       "      <td>1.0</td>\n",
       "      <td>0.0</td>\n",
       "      <td>0.0</td>\n",
       "      <td>1.00758</td>\n",
       "      <td>0.108215</td>\n",
       "      <td>1</td>\n",
       "    </tr>\n",
       "  </tbody>\n",
       "</table>\n",
       "<p>1 rows × 38 columns</p>\n",
       "</div>"
      ],
      "text/plain": [
       "offer_id  level_0  index customer_name    1    2    3    4    5    6    7  \\\n",
       "0               0      0         Adams  0.0  0.0  0.0  0.0  0.0  0.0  0.0   \n",
       "\n",
       "offer_id   ...      26   27   28   29   30   31   32        x         y  \\\n",
       "0          ...     0.0  0.0  0.0  1.0  1.0  0.0  0.0  1.00758  0.108215   \n",
       "\n",
       "offer_id  cluster  \n",
       "0               1  \n",
       "\n",
       "[1 rows x 38 columns]"
      ]
     },
     "execution_count": 120,
     "metadata": {},
     "output_type": "execute_result"
    }
   ],
   "source": [
    "matrix.head(1)"
   ]
  },
  {
   "cell_type": "code",
   "execution_count": 40,
   "metadata": {},
   "outputs": [
    {
     "data": {
      "image/png": "[encoded data removed]",
      "text/plain": [
       "<matplotlib.figure.Figure at 0x1a259c41a20>"
      ]
     },
     "metadata": {},
     "output_type": "display_data"
    }
   ],
   "source": [
    "plt.hist(matrix['cluster'])\n",
    "plt.show()"
   ]
  },
  {
   "cell_type": "markdown",
   "metadata": {},
   "source": [
    "### Choosing K: The Silhouette Method\n",
    "\n",
    "There exists another method that measures how well each datapoint $x_i$ \"fits\" its assigned cluster *and also* how poorly it fits into other clusters. This is a different way of looking at the same objective. Denote $a_{x_i}$ as the *average* distance from $x_i$ to all other points within its own cluster $k$. The lower the value, the better. On the other hand $b_{x_i}$ is the minimum average distance from $x_i$ to points in a different cluster, minimized over clusters. That is, compute separately for each cluster the average distance from $x_i$ to the points within that cluster, and then take the minimum. The silhouette $s(x_i)$ is defined as\n",
    "\n",
    "$$s(x_i) = \\frac{b_{x_i} - a_{x_i}}{\\max{\\left( a_{x_i}, b_{x_i}\\right)}}$$\n",
    "\n",
    "The silhouette score is computed on *every datapoint in every cluster*. The silhouette score ranges from -1 (a poor clustering) to +1 (a very dense clustering) with 0 denoting the situation where clusters overlap. Some criteria for the silhouette coefficient is provided in the table below."
   ]
  },
  {
   "cell_type": "markdown",
   "metadata": {},
   "source": [
    "<pre>\n",
    "\n",
    "| Range       | Interpretation                                |\n",
    "|-------------|-----------------------------------------------|\n",
    "| 0.71 - 1.0  | A strong structure has been found.            |\n",
    "| 0.51 - 0.7  | A reasonable structure has been found.        |\n",
    "| 0.26 - 0.5  | The structure is weak and could be artificial.|\n",
    "| < 0.25      | No substantial structure has been found.      |\n",
    "\n",
    "</pre>\n",
    "Source: http://www.stat.berkeley.edu/~spector/s133/Clus.html"
   ]
  },
  {
   "cell_type": "markdown",
   "metadata": {},
   "source": [
    "Fortunately, scikit-learn provides a function to compute this for us (phew!) called [`sklearn.metrics.silhouette_score`](http://scikit-learn.org/stable/modules/generated/sklearn.metrics.silhouette_score.html). Take a look at [this article](http://scikit-learn.org/stable/auto_examples/cluster/plot_kmeans_silhouette_analysis.html) on picking $K$ in scikit-learn, as it will help you in the next exercise set."
   ]
  },
  {
   "cell_type": "markdown",
   "metadata": {},
   "source": [
    "<div class=\"span5 alert alert-info\">\n",
    "<h3>Checkup Exercise Set III</h3>\n",
    "\n",
    "<p><b>Exercise:</b> Using the documentation for the `silhouette_score` function above, construct a series of silhouette plots like the ones in the article linked above.</p>\n",
    "\n",
    "<p><b>Exercise:</b> Compute the average silhouette score for each $K$ and plot it. What $K$ does the plot suggest we should choose? Does it differ from what we found using the Elbow method?</p>\n",
    "</div>"
   ]
  },
  {
   "cell_type": "code",
   "execution_count": 121,
   "metadata": {
    "scrolled": false
   },
   "outputs": [
    {
     "name": "stdout",
     "output_type": "stream",
     "text": [
      "Automatically created module for IPython interactive environment\n"
     ]
    },
    {
     "ename": "ValueError",
     "evalue": "Expected 2D array, got 1D array instead:\narray=[ 1.00757996 -0.28753924 -0.39203204  0.69947727  0.08818322 -0.48528191\n -0.59194099  0.66173153 -0.11894327  1.07982739 -0.24043106 -0.52224711\n  1.2607627  -0.57922058  0.19399846 -0.39203204 -0.40627567 -0.59194099\n  0.73615452 -0.34905694  1.41224694  0.18104828 -0.37148495 -0.5091369\n -0.2397061  -0.78235546 -0.2996659  -0.41282955 -0.33914592 -0.33096016\n  0.29263474  0.34652913 -0.43295775 -0.35656704  0.29013027  1.1405847\n -0.45859539  1.59318224 -0.83957847  1.48425757 -0.39203204 -0.46172592\n  0.28138141 -0.50432895  1.12534561 -0.718778    1.03189681  0.22158496\n -0.59633032 -0.38224085 -0.16812497 -0.95744055 -0.34293827 -0.2397061\n  0.0995008   0.66173153 -0.46172592  0.26699711  0.62722984 -0.06421844\n -0.20284492  0.28138141 -0.11003548  0.62722984  1.33999951 -0.79737937\n -0.2397061  -0.11815804 -0.17793418 -0.1872061  -0.25206523 -0.26664951\n -0.44318988  0.56406018 -0.20297795  0.67298486 -0.40327302  0.37712302\n  0.21084177 -0.27305796 -1.07751145 -1.27432947 -0.41802174 -0.30022728\n  1.06857406  0.73374217  1.35125284 -1.04187911  0.13510438  0.28138141\n -0.63219907  0.60073743 -0.22629311  0.67298486 -0.05048396 -0.15166619\n  0.68822394 -0.55121494 -0.4898048  -0.88199404].\nReshape your data either using array.reshape(-1, 1) if your data has a single feature or array.reshape(1, -1) if it contains a single sample.",
     "output_type": "error",
     "traceback": [
      "\u001b[1;31m---------------------------------------------------------------------------\u001b[0m",
      "\u001b[1;31mValueError\u001b[0m                                Traceback (most recent call last)",
      "\u001b[1;32m<ipython-input-121-863fbd002bd5>\u001b[0m in \u001b[0;36m<module>\u001b[1;34m()\u001b[0m\n\u001b[0;32m     36\u001b[0m     \u001b[1;31m# seed of 10 for reproducibility.\u001b[0m\u001b[1;33m\u001b[0m\u001b[1;33m\u001b[0m\u001b[0m\n\u001b[0;32m     37\u001b[0m     \u001b[0mclusterer\u001b[0m \u001b[1;33m=\u001b[0m \u001b[0mKMeans\u001b[0m\u001b[1;33m(\u001b[0m\u001b[0mn_clusters\u001b[0m\u001b[1;33m=\u001b[0m\u001b[0mn_clusters\u001b[0m\u001b[1;33m,\u001b[0m \u001b[0mrandom_state\u001b[0m\u001b[1;33m=\u001b[0m\u001b[1;36m10\u001b[0m\u001b[1;33m)\u001b[0m\u001b[1;33m\u001b[0m\u001b[0m\n\u001b[1;32m---> 38\u001b[1;33m     \u001b[0mcluster_labels\u001b[0m \u001b[1;33m=\u001b[0m \u001b[0mclusterer\u001b[0m\u001b[1;33m.\u001b[0m\u001b[0mfit_predict\u001b[0m\u001b[1;33m(\u001b[0m\u001b[0mX\u001b[0m\u001b[1;33m)\u001b[0m\u001b[1;33m\u001b[0m\u001b[0m\n\u001b[0m\u001b[0;32m     39\u001b[0m \u001b[1;33m\u001b[0m\u001b[0m\n\u001b[0;32m     40\u001b[0m     \u001b[1;31m# The silhouette_score gives the average value for all the samples.\u001b[0m\u001b[1;33m\u001b[0m\u001b[1;33m\u001b[0m\u001b[0m\n",
      "\u001b[1;32m~\\Anaconda3\\lib\\site-packages\\sklearn\\cluster\\k_means_.py\u001b[0m in \u001b[0;36mfit_predict\u001b[1;34m(self, X, y)\u001b[0m\n\u001b[0;32m    915\u001b[0m             \u001b[0mIndex\u001b[0m \u001b[0mof\u001b[0m \u001b[0mthe\u001b[0m \u001b[0mcluster\u001b[0m \u001b[0meach\u001b[0m \u001b[0msample\u001b[0m \u001b[0mbelongs\u001b[0m \u001b[0mto\u001b[0m\u001b[1;33m.\u001b[0m\u001b[1;33m\u001b[0m\u001b[0m\n\u001b[0;32m    916\u001b[0m         \"\"\"\n\u001b[1;32m--> 917\u001b[1;33m         \u001b[1;32mreturn\u001b[0m \u001b[0mself\u001b[0m\u001b[1;33m.\u001b[0m\u001b[0mfit\u001b[0m\u001b[1;33m(\u001b[0m\u001b[0mX\u001b[0m\u001b[1;33m)\u001b[0m\u001b[1;33m.\u001b[0m\u001b[0mlabels_\u001b[0m\u001b[1;33m\u001b[0m\u001b[0m\n\u001b[0m\u001b[0;32m    918\u001b[0m \u001b[1;33m\u001b[0m\u001b[0m\n\u001b[0;32m    919\u001b[0m     \u001b[1;32mdef\u001b[0m \u001b[0mfit_transform\u001b[0m\u001b[1;33m(\u001b[0m\u001b[0mself\u001b[0m\u001b[1;33m,\u001b[0m \u001b[0mX\u001b[0m\u001b[1;33m,\u001b[0m \u001b[0my\u001b[0m\u001b[1;33m=\u001b[0m\u001b[1;32mNone\u001b[0m\u001b[1;33m)\u001b[0m\u001b[1;33m:\u001b[0m\u001b[1;33m\u001b[0m\u001b[0m\n",
      "\u001b[1;32m~\\Anaconda3\\lib\\site-packages\\sklearn\\cluster\\k_means_.py\u001b[0m in \u001b[0;36mfit\u001b[1;34m(self, X, y)\u001b[0m\n\u001b[0;32m    885\u001b[0m         \"\"\"\n\u001b[0;32m    886\u001b[0m         \u001b[0mrandom_state\u001b[0m \u001b[1;33m=\u001b[0m \u001b[0mcheck_random_state\u001b[0m\u001b[1;33m(\u001b[0m\u001b[0mself\u001b[0m\u001b[1;33m.\u001b[0m\u001b[0mrandom_state\u001b[0m\u001b[1;33m)\u001b[0m\u001b[1;33m\u001b[0m\u001b[0m\n\u001b[1;32m--> 887\u001b[1;33m         \u001b[0mX\u001b[0m \u001b[1;33m=\u001b[0m \u001b[0mself\u001b[0m\u001b[1;33m.\u001b[0m\u001b[0m_check_fit_data\u001b[0m\u001b[1;33m(\u001b[0m\u001b[0mX\u001b[0m\u001b[1;33m)\u001b[0m\u001b[1;33m\u001b[0m\u001b[0m\n\u001b[0m\u001b[0;32m    888\u001b[0m \u001b[1;33m\u001b[0m\u001b[0m\n\u001b[0;32m    889\u001b[0m         \u001b[0mself\u001b[0m\u001b[1;33m.\u001b[0m\u001b[0mcluster_centers_\u001b[0m\u001b[1;33m,\u001b[0m \u001b[0mself\u001b[0m\u001b[1;33m.\u001b[0m\u001b[0mlabels_\u001b[0m\u001b[1;33m,\u001b[0m \u001b[0mself\u001b[0m\u001b[1;33m.\u001b[0m\u001b[0minertia_\u001b[0m\u001b[1;33m,\u001b[0m \u001b[0mself\u001b[0m\u001b[1;33m.\u001b[0m\u001b[0mn_iter_\u001b[0m \u001b[1;33m=\u001b[0m\u001b[0;31m \u001b[0m\u001b[0;31m\\\u001b[0m\u001b[1;33m\u001b[0m\u001b[0m\n",
      "\u001b[1;32m~\\Anaconda3\\lib\\site-packages\\sklearn\\cluster\\k_means_.py\u001b[0m in \u001b[0;36m_check_fit_data\u001b[1;34m(self, X)\u001b[0m\n\u001b[0;32m    856\u001b[0m     \u001b[1;32mdef\u001b[0m \u001b[0m_check_fit_data\u001b[0m\u001b[1;33m(\u001b[0m\u001b[0mself\u001b[0m\u001b[1;33m,\u001b[0m \u001b[0mX\u001b[0m\u001b[1;33m)\u001b[0m\u001b[1;33m:\u001b[0m\u001b[1;33m\u001b[0m\u001b[0m\n\u001b[0;32m    857\u001b[0m         \u001b[1;34m\"\"\"Verify that the number of samples given is larger than k\"\"\"\u001b[0m\u001b[1;33m\u001b[0m\u001b[0m\n\u001b[1;32m--> 858\u001b[1;33m         \u001b[0mX\u001b[0m \u001b[1;33m=\u001b[0m \u001b[0mcheck_array\u001b[0m\u001b[1;33m(\u001b[0m\u001b[0mX\u001b[0m\u001b[1;33m,\u001b[0m \u001b[0maccept_sparse\u001b[0m\u001b[1;33m=\u001b[0m\u001b[1;34m'csr'\u001b[0m\u001b[1;33m,\u001b[0m \u001b[0mdtype\u001b[0m\u001b[1;33m=\u001b[0m\u001b[1;33m[\u001b[0m\u001b[0mnp\u001b[0m\u001b[1;33m.\u001b[0m\u001b[0mfloat64\u001b[0m\u001b[1;33m,\u001b[0m \u001b[0mnp\u001b[0m\u001b[1;33m.\u001b[0m\u001b[0mfloat32\u001b[0m\u001b[1;33m]\u001b[0m\u001b[1;33m)\u001b[0m\u001b[1;33m\u001b[0m\u001b[0m\n\u001b[0m\u001b[0;32m    859\u001b[0m         \u001b[1;32mif\u001b[0m \u001b[0mX\u001b[0m\u001b[1;33m.\u001b[0m\u001b[0mshape\u001b[0m\u001b[1;33m[\u001b[0m\u001b[1;36m0\u001b[0m\u001b[1;33m]\u001b[0m \u001b[1;33m<\u001b[0m \u001b[0mself\u001b[0m\u001b[1;33m.\u001b[0m\u001b[0mn_clusters\u001b[0m\u001b[1;33m:\u001b[0m\u001b[1;33m\u001b[0m\u001b[0m\n\u001b[0;32m    860\u001b[0m             raise ValueError(\"n_samples=%d should be >= n_clusters=%d\" % (\n",
      "\u001b[1;32m~\\Anaconda3\\lib\\site-packages\\sklearn\\utils\\validation.py\u001b[0m in \u001b[0;36mcheck_array\u001b[1;34m(array, accept_sparse, dtype, order, copy, force_all_finite, ensure_2d, allow_nd, ensure_min_samples, ensure_min_features, warn_on_dtype, estimator)\u001b[0m\n\u001b[0;32m    439\u001b[0m                     \u001b[1;34m\"Reshape your data either using array.reshape(-1, 1) if \"\u001b[0m\u001b[1;33m\u001b[0m\u001b[0m\n\u001b[0;32m    440\u001b[0m                     \u001b[1;34m\"your data has a single feature or array.reshape(1, -1) \"\u001b[0m\u001b[1;33m\u001b[0m\u001b[0m\n\u001b[1;32m--> 441\u001b[1;33m                     \"if it contains a single sample.\".format(array))\n\u001b[0m\u001b[0;32m    442\u001b[0m             \u001b[0marray\u001b[0m \u001b[1;33m=\u001b[0m \u001b[0mnp\u001b[0m\u001b[1;33m.\u001b[0m\u001b[0matleast_2d\u001b[0m\u001b[1;33m(\u001b[0m\u001b[0marray\u001b[0m\u001b[1;33m)\u001b[0m\u001b[1;33m\u001b[0m\u001b[0m\n\u001b[0;32m    443\u001b[0m             \u001b[1;31m# To ensure that array flags are maintained\u001b[0m\u001b[1;33m\u001b[0m\u001b[1;33m\u001b[0m\u001b[0m\n",
      "\u001b[1;31mValueError\u001b[0m: Expected 2D array, got 1D array instead:\narray=[ 1.00757996 -0.28753924 -0.39203204  0.69947727  0.08818322 -0.48528191\n -0.59194099  0.66173153 -0.11894327  1.07982739 -0.24043106 -0.52224711\n  1.2607627  -0.57922058  0.19399846 -0.39203204 -0.40627567 -0.59194099\n  0.73615452 -0.34905694  1.41224694  0.18104828 -0.37148495 -0.5091369\n -0.2397061  -0.78235546 -0.2996659  -0.41282955 -0.33914592 -0.33096016\n  0.29263474  0.34652913 -0.43295775 -0.35656704  0.29013027  1.1405847\n -0.45859539  1.59318224 -0.83957847  1.48425757 -0.39203204 -0.46172592\n  0.28138141 -0.50432895  1.12534561 -0.718778    1.03189681  0.22158496\n -0.59633032 -0.38224085 -0.16812497 -0.95744055 -0.34293827 -0.2397061\n  0.0995008   0.66173153 -0.46172592  0.26699711  0.62722984 -0.06421844\n -0.20284492  0.28138141 -0.11003548  0.62722984  1.33999951 -0.79737937\n -0.2397061  -0.11815804 -0.17793418 -0.1872061  -0.25206523 -0.26664951\n -0.44318988  0.56406018 -0.20297795  0.67298486 -0.40327302  0.37712302\n  0.21084177 -0.27305796 -1.07751145 -1.27432947 -0.41802174 -0.30022728\n  1.06857406  0.73374217  1.35125284 -1.04187911  0.13510438  0.28138141\n -0.63219907  0.60073743 -0.22629311  0.67298486 -0.05048396 -0.15166619\n  0.68822394 -0.55121494 -0.4898048  -0.88199404].\nReshape your data either using array.reshape(-1, 1) if your data has a single feature or array.reshape(1, -1) if it contains a single sample."
     ]
    },
    {
     "data": {
      "image/png": "[encoded data removed]",
      "text/plain": [
       "<matplotlib.figure.Figure at 0x1a259e7f668>"
      ]
     },
     "metadata": {},
     "output_type": "display_data"
    }
   ],
   "source": [
    "# Your turn.\n",
    "from __future__ import print_function\n",
    "\n",
    "from sklearn.datasets import make_blobs\n",
    "from sklearn.cluster import KMeans\n",
    "from sklearn.metrics import silhouette_samples, silhouette_score\n",
    "\n",
    "import matplotlib.pyplot as plt\n",
    "import matplotlib.cm as cm\n",
    "import numpy as np\n",
    "\n",
    "print(__doc__)\n",
    "\n",
    "# Generating the sample data from make_blobs\n",
    "# This particular setting has one distinct cluster and 3 clusters placed close\n",
    "# together.\n",
    "X = matrix['x']\n",
    "y = matrix['y']\n",
    "\n",
    "range_n_clusters = [2, 3, 4, 5, 6]\n",
    "\n",
    "for n_clusters in range_n_clusters:\n",
    "    # Create a subplot with 1 row and 2 columns\n",
    "    fig, (ax1, ax2) = plt.subplots(1, 2)\n",
    "    fig.set_size_inches(18, 7)\n",
    "\n",
    "    # The 1st subplot is the silhouette plot\n",
    "    # The silhouette coefficient can range from -1, 1 but in this example all\n",
    "    # lie within [-0.1, 1]\n",
    "    ax1.set_xlim([-0.1, 1])\n",
    "    # The (n_clusters+1)*10 is for inserting blank space between silhouette\n",
    "    # plots of individual clusters, to demarcate them clearly.\n",
    "    ax1.set_ylim([0, len(X) + (n_clusters + 1) * 10])\n",
    "\n",
    "    # Initialize the clusterer with n_clusters value and a random generator\n",
    "    # seed of 10 for reproducibility.\n",
    "    clusterer = KMeans(n_clusters=n_clusters, random_state=10)\n",
    "    cluster_labels = clusterer.fit_predict(X)\n",
    "\n",
    "    # The silhouette_score gives the average value for all the samples.\n",
    "    # This gives a perspective into the density and separation of the formed\n",
    "    # clusters\n",
    "    silhouette_avg = silhouette_score(X, cluster_labels)\n",
    "    print(\"For n_clusters =\", n_clusters,\n",
    "          \"The average silhouette_score is :\", silhouette_avg)\n",
    "\n",
    "    # Compute the silhouette scores for each sample\n",
    "    sample_silhouette_values = silhouette_samples(X, cluster_labels)\n",
    "\n",
    "    y_lower = 10\n",
    "    for i in range(n_clusters):\n",
    "        # Aggregate the silhouette scores for samples belonging to\n",
    "        # cluster i, and sort them\n",
    "        ith_cluster_silhouette_values = \\\n",
    "            sample_silhouette_values[cluster_labels == i]\n",
    "\n",
    "        ith_cluster_silhouette_values.sort()\n",
    "\n",
    "        size_cluster_i = ith_cluster_silhouette_values.shape[0]\n",
    "        y_upper = y_lower + size_cluster_i\n",
    "\n",
    "        color = cm.nipy_spectral(float(i) / n_clusters)\n",
    "        ax1.fill_betweenx(np.arange(y_lower, y_upper),\n",
    "                          0, ith_cluster_silhouette_values,\n",
    "                          facecolor=color, edgecolor=color, alpha=0.7)\n",
    "\n",
    "        # Label the silhouette plots with their cluster numbers at the middle\n",
    "        ax1.text(-0.05, y_lower + 0.5 * size_cluster_i, str(i))\n",
    "\n",
    "        # Compute the new y_lower for next plot\n",
    "        y_lower = y_upper + 10  # 10 for the 0 samples\n",
    "\n",
    "    ax1.set_title(\"The silhouette plot for the various clusters.\")\n",
    "    ax1.set_xlabel(\"The silhouette coefficient values\")\n",
    "    ax1.set_ylabel(\"Cluster label\")\n",
    "\n",
    "    # The vertical line for average silhouette score of all the values\n",
    "    ax1.axvline(x=silhouette_avg, color=\"red\", linestyle=\"--\")\n",
    "\n",
    "    ax1.set_yticks([])  # Clear the yaxis labels / ticks\n",
    "    ax1.set_xticks([-0.1, 0, 0.2, 0.4, 0.6, 0.8, 1])\n",
    "\n",
    "    # 2nd Plot showing the actual clusters formed\n",
    "    colors = cm.nipy_spectral(cluster_labels.astype(float) / n_clusters)\n",
    "    ax2.scatter(X[:, 0], X[:, 1], marker='.', s=30, lw=0, alpha=0.7,\n",
    "                c=colors, edgecolor='k')\n",
    "\n",
    "    # Labeling the clusters\n",
    "    centers = clusterer.cluster_centers_\n",
    "    # Draw white circles at cluster centers\n",
    "    ax2.scatter(centers[:, 0], centers[:, 1], marker='o',\n",
    "                c=\"white\", alpha=1, s=200, edgecolor='k')\n",
    "\n",
    "    for i, c in enumerate(centers):\n",
    "        ax2.scatter(c[0], c[1], marker='$%d$' % i, alpha=1,\n",
    "                    s=50, edgecolor='k')\n",
    "\n",
    "    ax2.set_title(\"The visualization of the clustered data.\")\n",
    "    ax2.set_xlabel(\"Feature space for the 1st feature\")\n",
    "    ax2.set_ylabel(\"Feature space for the 2nd feature\")\n",
    "\n",
    "    plt.suptitle((\"Silhouette analysis for KMeans clustering on sample data \"\n",
    "                  \"with n_clusters = %d\" % n_clusters),\n",
    "                 fontsize=14, fontweight='bold')\n",
    "\n",
    "plt.show()"
   ]
  },
  {
   "cell_type": "code",
   "execution_count": 117,
   "metadata": {},
   "outputs": [
    {
     "data": {
      "text/plain": [
       "array([[-6.92324165e+00, -1.06695320e+01],\n",
       "       [-8.63062033e+00, -7.13940564e+00],\n",
       "       [-9.63048069e+00, -2.72044935e+00],\n",
       "       [-2.30647659e+00,  5.30797676e+00],\n",
       "       [-7.57005366e+00, -3.01446491e+00],\n",
       "       [-1.00051011e+00,  2.77905153e+00],\n",
       "       [-4.81826839e+00, -2.77214822e+00],\n",
       "       [-5.33964799e+00, -1.27625764e+00],\n",
       "       [-7.94308840e+00, -3.89993901e+00],\n",
       "       [-5.54924525e+00, -3.41298968e+00],\n",
       "       [-5.14508990e+00, -9.54492198e+00],\n",
       "       [-7.09669936e+00, -8.04074036e+00],\n",
       "       [-5.82641512e+00, -1.96346196e+00],\n",
       "       [-1.83198811e+00,  3.52863145e+00],\n",
       "       [-7.34267235e+00, -3.16546482e+00],\n",
       "       [-7.34072825e+00, -6.92427252e+00],\n",
       "       [-7.94653906e+00, -3.36768655e+00],\n",
       "       [-8.24598536e+00, -8.61315821e+00],\n",
       "       [-1.98197711e+00,  4.02243551e+00],\n",
       "       [-4.35098035e+00, -3.69476678e+00],\n",
       "       [-1.04768696e+01, -3.60318139e+00],\n",
       "       [-1.10195984e+01, -3.15882031e+00],\n",
       "       [-5.17255904e+00, -4.31835971e+00],\n",
       "       [-2.40671820e+00,  6.09894447e+00],\n",
       "       [-6.72149498e+00, -2.88440806e+00],\n",
       "       [-6.58935963e+00, -4.43379548e+00],\n",
       "       [-1.46126019e+00,  4.52549851e+00],\n",
       "       [-9.19003455e-01,  3.45278927e+00],\n",
       "       [-1.04093517e+01, -2.67482046e+00],\n",
       "       [-6.36722809e+00, -3.32666072e+00],\n",
       "       [-6.72766125e+00, -7.14516267e+00],\n",
       "       [-2.27956075e+00,  5.10452190e+00],\n",
       "       [-5.84887560e+00, -3.03970506e+00],\n",
       "       [-6.07993051e+00, -7.08197568e+00],\n",
       "       [-5.26682929e+00, -2.69645055e+00],\n",
       "       [-6.05367512e+00, -9.62979077e+00],\n",
       "       [-1.00822205e+01, -4.25071043e+00],\n",
       "       [-1.18708735e+01, -3.03273343e+00],\n",
       "       [-5.37107307e+00, -7.95635833e+00],\n",
       "       [-9.37590900e+00, -4.55315308e+00],\n",
       "       [-6.63401987e+00, -2.58340356e+00],\n",
       "       [-9.54609655e+00, -2.84917422e+00],\n",
       "       [-1.69825542e+00,  2.79071751e+00],\n",
       "       [-5.60217602e+00, -6.59908490e-01],\n",
       "       [-6.03429022e+00, -4.08821196e+00],\n",
       "       [-6.37230784e+00, -8.63190046e+00],\n",
       "       [-1.02264783e+01, -2.33998717e+00],\n",
       "       [-5.95678148e+00, -3.97905701e+00],\n",
       "       [-1.42706535e+00,  5.08904128e+00],\n",
       "       [-6.20735304e-01,  6.59346952e+00],\n",
       "       [-3.28102793e-01,  4.11918201e+00],\n",
       "       [-1.06230545e+01, -4.54719161e+00],\n",
       "       [-9.12674270e+00, -4.46180568e+00],\n",
       "       [-5.24134497e+00, -3.23505873e+00],\n",
       "       [-7.19967531e+00, -7.10400981e+00],\n",
       "       [-1.01136977e+01, -4.12880752e+00],\n",
       "       [-1.03416132e+01, -4.95351774e+00],\n",
       "       [-1.25041532e+01, -6.06751247e+00],\n",
       "       [-9.32331640e+00, -4.67574045e+00],\n",
       "       [-7.32033002e+00, -2.73350095e+00],\n",
       "       [-2.20533407e+00,  4.20765201e+00],\n",
       "       [-5.27930518e-01,  5.92630669e+00],\n",
       "       [-8.87430034e+00, -3.64808151e+00],\n",
       "       [-6.66948545e+00, -4.26059884e+00],\n",
       "       [-1.37397258e+00,  5.29163103e+00],\n",
       "       [-6.60085708e+00, -3.11969688e+00],\n",
       "       [-7.99175412e+00, -8.33564851e+00],\n",
       "       [-6.22447869e+00, -2.43846224e+00],\n",
       "       [-1.11054250e+01, -3.97106687e+00],\n",
       "       [-8.95762335e+00, -4.87178859e+00],\n",
       "       [-6.65461644e+00, -7.29335713e+00],\n",
       "       [-1.09531378e+01, -3.36743812e+00],\n",
       "       [-5.11351008e+00, -2.01881992e+00],\n",
       "       [-7.24251438e+00, -9.66368448e+00],\n",
       "       [-5.34929456e+00, -3.54577332e+00],\n",
       "       [-6.29261332e+00, -3.68892426e+00],\n",
       "       [-7.35387953e+00, -8.54504434e+00],\n",
       "       [-5.78423473e+00, -4.48406848e+00],\n",
       "       [-5.66256325e+00, -2.34390092e+00],\n",
       "       [-8.60893311e+00, -4.61469279e+00],\n",
       "       [-2.52019906e-01,  4.53559145e+00],\n",
       "       [-1.92744799e+00,  4.93684534e+00],\n",
       "       [-9.41306589e+00, -3.62907430e+00],\n",
       "       [-8.48608233e-01,  5.45093196e+00],\n",
       "       [-8.66753040e-01,  3.78295914e+00],\n",
       "       [-1.01842915e+01, -4.01017303e+00],\n",
       "       [-7.93192918e+00, -5.42450547e+00],\n",
       "       [-2.75447175e+00,  4.57587230e+00],\n",
       "       [-1.17171070e+01, -3.89622755e+00],\n",
       "       [-8.85081213e+00, -4.00305113e+00],\n",
       "       [-1.34392496e+00,  2.38428865e+00],\n",
       "       [-8.16203654e+00, -7.31459336e+00],\n",
       "       [-9.18886814e+00, -2.16359386e+00],\n",
       "       [-7.13229260e+00, -4.02296730e+00],\n",
       "       [-4.26103071e-02,  4.90923075e+00],\n",
       "       [-7.24449448e+00, -7.65150300e+00],\n",
       "       [-8.13784646e+00, -7.65806949e+00],\n",
       "       [-6.73451345e+00, -1.38330194e+00],\n",
       "       [-8.96369424e+00, -9.27033880e+00],\n",
       "       [ 8.68765801e-01,  4.15785509e+00],\n",
       "       [-5.45176929e-01,  3.81996593e+00],\n",
       "       [-8.01694428e+00, -8.67137366e+00],\n",
       "       [-3.33375571e+00,  5.23151969e+00],\n",
       "       [-1.14385885e+01, -2.72109548e+00],\n",
       "       [-2.52087627e+00,  5.08120139e+00],\n",
       "       [-6.84394443e+00, -4.15058222e+00],\n",
       "       [-5.87619738e+00, -3.28078916e+00],\n",
       "       [-1.21819546e+00,  4.30633464e+00],\n",
       "       [-2.00341358e+00,  4.45008673e+00],\n",
       "       [-1.01077040e+01, -3.94479960e+00],\n",
       "       [-7.03045854e+00, -1.23734756e+00],\n",
       "       [-6.95685137e+00, -8.12381049e+00],\n",
       "       [-2.33022219e+00,  4.78405366e+00],\n",
       "       [-9.98435983e+00, -4.64804214e+00],\n",
       "       [-2.33080604e+00,  4.39382527e+00],\n",
       "       [-1.07796242e+01, -4.39085753e+00],\n",
       "       [-2.03484486e+00,  3.76775946e+00],\n",
       "       [-7.16744245e+00, -3.24998378e+00],\n",
       "       [-4.99221336e-01,  4.77598259e+00],\n",
       "       [-5.76681144e+00, -3.41281779e+00],\n",
       "       [-1.06990569e+01, -4.49057157e+00],\n",
       "       [-7.28729621e+00, -6.68306776e+00],\n",
       "       [-8.17831829e+00, -8.22063813e+00],\n",
       "       [-9.14443128e+00, -4.36637786e+00],\n",
       "       [-7.22323543e+00, -3.51226376e+00],\n",
       "       [-9.71296439e+00, -3.69088110e+00],\n",
       "       [-3.19091528e-02,  4.74450157e+00],\n",
       "       [-7.10406044e+00, -8.38198228e+00],\n",
       "       [-7.52482501e+00, -7.50887444e+00],\n",
       "       [-6.31161343e+00, -2.97641697e+00],\n",
       "       [-5.38142198e-01,  4.81539041e+00],\n",
       "       [-9.58041050e+00, -3.16857790e+00],\n",
       "       [-9.53106924e+00, -2.91966168e+00],\n",
       "       [-1.07650223e+01, -3.27877784e+00],\n",
       "       [-9.54658956e+00, -4.64826945e+00],\n",
       "       [-7.39393373e+00, -6.80612264e+00],\n",
       "       [-2.99151157e+00,  2.64580131e+00],\n",
       "       [-5.67558254e+00, -4.55902255e+00],\n",
       "       [-3.51754177e+00,  5.64265390e+00],\n",
       "       [-9.98539618e-01,  6.19864808e+00],\n",
       "       [-5.96497901e+00, -2.03746469e+00],\n",
       "       [-8.85279507e+00, -7.79138079e+00],\n",
       "       [-4.64310426e+00, -2.22789422e+00],\n",
       "       [-1.35938959e+00,  4.05424002e+00],\n",
       "       [-5.25790464e-01,  3.30659860e+00],\n",
       "       [-1.15637509e+00,  5.69971575e+00],\n",
       "       [-6.42530010e+00, -2.17328619e+00],\n",
       "       [-5.70183305e+00, -2.63083838e+00],\n",
       "       [-6.04632971e+00, -6.92266990e+00],\n",
       "       [-8.14559288e+00, -7.42775410e+00],\n",
       "       [-9.15685095e+00, -4.05623576e+00],\n",
       "       [-9.16170778e+00, -2.40998944e+00],\n",
       "       [-1.46864442e+00,  6.50674501e+00],\n",
       "       [-6.74672798e+00, -8.17245974e+00],\n",
       "       [-1.98605940e+00,  3.06381408e+00],\n",
       "       [-1.03289957e+01, -3.56680940e+00],\n",
       "       [-9.34313235e+00, -4.00453699e+00],\n",
       "       [-9.55954616e+00, -2.83102023e+00],\n",
       "       [-1.01659113e+01, -4.12752889e+00],\n",
       "       [-9.84144865e+00, -4.14356957e+00],\n",
       "       [-1.02768102e+01, -2.33049946e+00],\n",
       "       [-1.01030572e+01, -3.32315288e+00],\n",
       "       [-9.90228742e+00, -3.03189848e+00],\n",
       "       [-9.72121320e+00, -4.68662015e+00],\n",
       "       [-1.85139546e+00,  3.51886090e+00],\n",
       "       [-6.69321189e+00, -6.30021862e+00],\n",
       "       [-6.53371839e+00, -8.14922726e+00],\n",
       "       [-8.46369500e+00, -8.07146029e+00],\n",
       "       [-5.75004528e+00, -3.56590967e+00],\n",
       "       [-1.17104176e+00,  4.33091816e+00],\n",
       "       [-8.52628579e+00, -8.66957601e+00],\n",
       "       [-9.23890684e+00, -3.06843973e+00],\n",
       "       [-6.12803051e+00, -2.51698058e+00],\n",
       "       [-8.10406451e+00, -7.42020487e+00],\n",
       "       [-1.61589091e+00,  4.18017563e+00],\n",
       "       [-8.98758533e+00, -3.03333061e+00],\n",
       "       [-1.19410359e+01, -3.60085418e+00],\n",
       "       [-1.04399418e+01, -3.62982119e+00],\n",
       "       [-1.14242679e+01, -2.18538860e+00],\n",
       "       [-9.00992914e+00, -9.06865247e+00],\n",
       "       [-6.47435649e+00, -3.74338863e+00],\n",
       "       [-9.63138049e+00, -4.99793793e+00],\n",
       "       [ 5.26015501e-01,  3.00999353e+00],\n",
       "       [-9.76324393e+00, -9.36656623e+00],\n",
       "       [-6.27965526e+00, -8.81809587e+00],\n",
       "       [-9.46883276e+00, -6.19043506e+00],\n",
       "       [-5.77336618e+00, -3.56739953e+00],\n",
       "       [-6.69242533e+00, -8.30171791e+00],\n",
       "       [-7.44439970e+00, -9.16803180e+00],\n",
       "       [-7.11478469e+00, -5.38699134e+00],\n",
       "       [-3.85803976e-01,  6.37359162e+00],\n",
       "       [-2.00454712e+00,  4.17565013e+00],\n",
       "       [-5.75517628e+00, -9.30821074e+00],\n",
       "       [-9.14168421e+00, -7.20572694e+00],\n",
       "       [-5.92092535e+00, -3.27574048e+00],\n",
       "       [-2.35122066e+00,  4.00973634e+00],\n",
       "       [-5.91907851e+00, -2.23919861e+00],\n",
       "       [-5.62200526e+00, -8.69290967e+00],\n",
       "       [-7.54246304e+00, -8.12722811e+00],\n",
       "       [-2.41395785e+00,  5.65935802e+00],\n",
       "       [-6.37151596e+00, -8.91129543e+00],\n",
       "       [-1.21401792e+01, -4.78351741e+00],\n",
       "       [-4.45264491e+00,  6.34401868e+00],\n",
       "       [-5.59698820e+00, -4.19535853e+00],\n",
       "       [-6.07503622e+00, -2.15606405e+00],\n",
       "       [-7.24828238e+00, -7.05222790e+00],\n",
       "       [-4.77891101e+00, -2.41333165e+00],\n",
       "       [-1.24112155e+01, -5.73091492e+00],\n",
       "       [-6.75264349e+00, -8.34654975e+00],\n",
       "       [-5.05492139e+00, -4.22257749e+00],\n",
       "       [-1.03825448e+01, -2.49524031e+00],\n",
       "       [-7.22570502e+00, -3.79313579e+00],\n",
       "       [-1.19498178e+01, -5.35567769e+00],\n",
       "       [-7.62867092e+00, -8.06354170e+00],\n",
       "       [-4.61767113e+00, -1.67111145e+00],\n",
       "       [-5.12219664e+00, -3.31302123e+00],\n",
       "       [-6.29225072e+00, -2.35738294e+00],\n",
       "       [ 2.42271161e-04,  5.14853403e+00],\n",
       "       [-8.79988166e+00, -2.24875438e+00],\n",
       "       [-2.77687025e+00,  4.64090557e+00],\n",
       "       [-6.39694979e+00, -3.76963703e+00],\n",
       "       [-6.92263081e+00, -7.63972262e+00],\n",
       "       [-1.15768688e+01, -4.78197653e+00],\n",
       "       [-5.66824737e+00, -3.82607509e+00],\n",
       "       [-1.11578826e+01, -2.60324173e+00],\n",
       "       [-1.04730854e+01, -3.47573837e+00],\n",
       "       [-9.98118494e+00, -3.77616083e+00],\n",
       "       [-1.04102078e+00,  3.96331794e+00],\n",
       "       [-9.32856015e+00, -2.60893309e+00],\n",
       "       [-1.13898357e+00,  3.26214848e+00],\n",
       "       [-6.17905638e+00, -7.96336646e+00],\n",
       "       [-1.02356544e+01, -2.79806066e+00],\n",
       "       [-5.77133256e+00, -8.59222577e+00],\n",
       "       [-9.14500844e+00, -3.91798845e+00],\n",
       "       [-1.61734616e+00,  4.98930508e+00],\n",
       "       [-2.77867530e+00,  6.36256877e+00],\n",
       "       [-9.54642849e+00, -5.63740853e+00],\n",
       "       [-6.91486590e+00, -7.68969378e+00],\n",
       "       [-1.84612968e+00,  4.30474400e+00],\n",
       "       [-5.52834586e+00, -8.15360311e+00],\n",
       "       [-6.00915337e+00, -3.34925152e+00],\n",
       "       [-8.54628324e+00, -4.57138540e+00],\n",
       "       [-7.31655639e+00, -7.77051293e+00],\n",
       "       [-7.20423399e+00, -8.88176559e+00],\n",
       "       [-7.55600732e+00, -8.01885499e+00],\n",
       "       [-5.67856792e+00, -7.60509852e+00],\n",
       "       [-5.21446826e+00, -4.79995312e+00],\n",
       "       [-9.37662980e+00, -2.99722684e+00],\n",
       "       [-5.31844709e+00, -8.92829839e+00],\n",
       "       [-1.08278844e+01, -4.83392615e+00],\n",
       "       [-6.06569910e+00, -1.53376946e+00],\n",
       "       [-2.34673261e+00,  3.56128423e+00],\n",
       "       [-1.25606826e+00,  5.00006839e+00],\n",
       "       [-5.83979745e+00, -2.17836186e+00],\n",
       "       [-6.87088211e+00, -2.22716236e+00],\n",
       "       [-1.79600465e+00,  4.28743568e+00],\n",
       "       [-9.37972697e+00, -4.13752487e+00],\n",
       "       [-7.23605937e+00, -4.54710992e+00],\n",
       "       [-1.02794488e+01, -1.89699302e+00],\n",
       "       [-1.41689046e+00,  4.60832005e+00],\n",
       "       [-5.78045412e+00, -4.58297922e+00],\n",
       "       [ 8.52518583e-02,  3.64528297e+00],\n",
       "       [-9.20268641e+00, -4.32778687e+00],\n",
       "       [-9.56818636e+00, -4.56034695e+00],\n",
       "       [-1.16434858e+00,  4.23178671e+00],\n",
       "       [-6.16345851e+00, -3.10830802e+00],\n",
       "       [-6.32152564e+00, -9.66280079e+00],\n",
       "       [-7.52099974e+00, -9.13311836e+00],\n",
       "       [-9.22029330e+00, -4.07211972e+00],\n",
       "       [-1.08491682e+01, -2.95246712e+00],\n",
       "       [-9.86366431e+00, -2.75129369e+00],\n",
       "       [-6.79715224e+00, -3.45804136e+00],\n",
       "       [-9.79490066e-01,  4.08668827e+00],\n",
       "       [-2.06043810e+00,  5.23049549e+00],\n",
       "       [-5.66839183e+00, -7.95067847e-01],\n",
       "       [-7.57969185e-01,  4.90898421e+00],\n",
       "       [-1.04205695e+01, -3.86688414e+00],\n",
       "       [-7.12425009e+00, -6.70423870e+00],\n",
       "       [-1.37889483e+00,  4.33337717e+00],\n",
       "       [-6.61466444e+00, -7.52579102e+00],\n",
       "       [-1.34052081e+00,  4.15711949e+00],\n",
       "       [-6.21160000e+00, -8.29293984e+00],\n",
       "       [-7.56885613e+00, -8.13527221e+00],\n",
       "       [-1.77000693e+00,  3.78912781e+00],\n",
       "       [-7.36585834e+00, -7.34577219e+00],\n",
       "       [-1.49952284e+00,  5.28265879e+00],\n",
       "       [-2.85882794e+00,  5.26983519e+00],\n",
       "       [-7.73884935e+00, -3.24327665e+00],\n",
       "       [-1.08201797e+01, -3.23163726e+00],\n",
       "       [-8.53682012e+00, -3.36087575e+00],\n",
       "       [-1.20349137e+01, -5.89593773e+00],\n",
       "       [-5.26910909e+00, -2.73521824e+00],\n",
       "       [-6.71299604e+00, -2.90324984e+00],\n",
       "       [-8.36118634e+00, -2.72698382e+00],\n",
       "       [-5.48941428e+00, -6.94662021e+00],\n",
       "       [ 5.31139823e-01,  2.51012895e+00],\n",
       "       [-5.64126775e+00, -7.24922893e+00],\n",
       "       [-9.48263889e+00, -6.73588302e+00],\n",
       "       [-7.53103704e+00, -6.76823676e+00],\n",
       "       [-6.31078595e+00, -2.05174648e+00],\n",
       "       [-8.70233178e+00, -4.19462540e+00],\n",
       "       [-6.11013071e+00, -2.31061128e+00],\n",
       "       [-5.83972633e+00, -9.20677418e+00],\n",
       "       [-1.17536381e+01, -3.23855895e+00],\n",
       "       [-9.29199482e+00, -9.85256171e+00],\n",
       "       [-7.85568214e+00, -6.92950589e+00],\n",
       "       [-1.01967107e+01, -2.08687717e+00],\n",
       "       [-7.96356538e+00, -7.83357116e+00],\n",
       "       [-6.77680402e+00, -6.65511992e+00],\n",
       "       [-1.08749940e+01, -4.82113577e+00],\n",
       "       [-1.84048021e+00,  3.80256924e+00],\n",
       "       [-7.98067403e+00, -8.56048015e+00],\n",
       "       [-6.32066246e+00, -3.30751892e+00],\n",
       "       [-6.17979966e+00, -3.00803447e+00],\n",
       "       [-2.17665436e+00,  3.40946304e+00],\n",
       "       [-6.73224718e-01,  4.62002377e+00],\n",
       "       [-8.93892171e+00, -3.51521408e+00],\n",
       "       [-7.48937497e+00, -8.88475909e+00],\n",
       "       [-2.89641328e+00,  5.28232880e+00],\n",
       "       [-8.13399258e-01,  3.54697393e+00],\n",
       "       [-5.77752667e+00, -2.85145276e+00],\n",
       "       [-6.24883850e+00, -8.76563508e+00],\n",
       "       [-3.10367371e+00,  3.90202401e+00],\n",
       "       [-1.05724063e+00,  4.82677207e+00],\n",
       "       [-5.73215048e+00, -5.04695454e+00],\n",
       "       [-9.93696231e+00, -3.74222379e+00],\n",
       "       [-3.03267723e+00,  4.72164926e+00],\n",
       "       [-1.07035530e+01, -2.76066248e+00],\n",
       "       [-5.68475631e+00, -3.76816924e+00],\n",
       "       [-8.62182374e+00, -8.76567023e+00],\n",
       "       [-6.67177294e+00, -9.97714796e+00],\n",
       "       [-1.92577841e+00,  4.43910442e+00],\n",
       "       [-8.16299488e+00, -3.38896569e+00],\n",
       "       [-3.74380343e+00, -8.75345344e+00],\n",
       "       [-5.66601211e+00, -4.97019633e+00],\n",
       "       [-2.88961804e+00,  4.95702736e+00],\n",
       "       [-2.35995841e+00,  4.20309542e+00],\n",
       "       [-6.80491557e+00, -3.49602548e+00],\n",
       "       [-7.10480676e+00, -4.10830531e+00],\n",
       "       [-6.96685539e+00, -3.12876392e+00],\n",
       "       [-6.31354495e+00, -8.01283267e+00],\n",
       "       [-4.47120679e+00, -3.54131043e+00],\n",
       "       [-1.53940095e+00,  5.02369298e+00],\n",
       "       [-1.60875215e+00,  3.76949422e+00],\n",
       "       [-1.01927698e+01, -3.14795512e+00],\n",
       "       [-2.80207810e+00,  4.05714715e+00],\n",
       "       [ 2.45098802e-01,  5.51754657e+00],\n",
       "       [-3.31028117e+00,  3.51593428e+00],\n",
       "       [-2.84187803e+00,  3.74073535e+00],\n",
       "       [-5.75867612e+00, -8.75783107e+00],\n",
       "       [-5.99591056e+00, -8.11285667e+00],\n",
       "       [-4.98360687e+00, -3.20522961e+00],\n",
       "       [-1.86845414e+00,  4.99311306e+00],\n",
       "       [-9.71503679e+00, -4.77944598e+00],\n",
       "       [-6.47373322e+00, -2.78682541e+00],\n",
       "       [-6.99263028e+00, -7.14344077e+00],\n",
       "       [-1.53773863e+00,  5.53597378e+00],\n",
       "       [-1.04464505e+01, -4.62579659e+00],\n",
       "       [-1.09679881e+00,  4.64722696e+00],\n",
       "       [-7.25256877e+00, -2.91682833e+00],\n",
       "       [-1.97451969e-01,  2.34634916e+00],\n",
       "       [-1.00670412e+01, -4.06174061e+00],\n",
       "       [-6.13468589e+00, -4.50793424e+00],\n",
       "       [-1.03725172e+01, -4.70331816e+00],\n",
       "       [-1.88188805e+00,  4.20573180e+00],\n",
       "       [-7.15498484e+00, -3.10778598e+00],\n",
       "       [-6.14254799e+00, -3.65202206e+00],\n",
       "       [-7.42749427e+00, -9.63838456e+00],\n",
       "       [-1.13009458e+00,  4.54419108e+00],\n",
       "       [-6.28485505e+00, -8.78266971e+00],\n",
       "       [-7.33325349e+00, -8.28490373e+00],\n",
       "       [-6.40320111e+00, -7.16687592e+00],\n",
       "       [-7.22187586e+00, -9.48843083e+00],\n",
       "       [-6.09834293e+00, -7.44017905e+00],\n",
       "       [-7.20807793e+00, -7.12024433e+00],\n",
       "       [-9.68744022e+00, -6.04759636e+00],\n",
       "       [-7.87372938e+00, -7.59578865e+00],\n",
       "       [-1.14663009e+00,  4.10839703e+00],\n",
       "       [-5.90344220e+00, -8.18075749e+00],\n",
       "       [-2.76017908e+00,  5.55121358e+00],\n",
       "       [-1.23606555e+00,  4.48382994e+00],\n",
       "       [-9.97584967e+00, -4.42202236e+00],\n",
       "       [-2.10668847e+00,  5.63099757e+00],\n",
       "       [-4.73558876e+00, -4.23748969e+00],\n",
       "       [-1.07233096e+01, -4.82111722e+00],\n",
       "       [-8.26074369e+00, -5.64724782e+00],\n",
       "       [-6.88384344e+00, -7.04605265e+00],\n",
       "       [-2.15777347e+00,  4.09550489e+00],\n",
       "       [-7.85988444e+00, -4.73888254e+00],\n",
       "       [-4.60642026e-01,  4.59164629e+00],\n",
       "       [-5.05685487e+00, -5.02946642e+00],\n",
       "       [-7.66055006e+00, -8.46234942e+00],\n",
       "       [-8.41923982e+00, -3.45834788e+00],\n",
       "       [-1.09947323e+01, -4.06014253e+00],\n",
       "       [-6.71376529e+00, -8.22199857e+00],\n",
       "       [-1.07972600e+01, -4.24494314e+00],\n",
       "       [-8.23746328e+00, -4.01400104e+00],\n",
       "       [-2.93211866e+00,  4.72003759e+00],\n",
       "       [-1.66145139e+00,  3.00986944e+00],\n",
       "       [-7.65734347e+00, -1.04581360e+01],\n",
       "       [-9.98054778e+00, -4.38249083e+00],\n",
       "       [-5.51940374e+00, -2.38780334e+00],\n",
       "       [-1.96967668e+00,  1.97165210e+00],\n",
       "       [-3.88464981e+00, -2.84336261e+00],\n",
       "       [-5.82969906e+00, -2.99067321e+00],\n",
       "       [-6.66700176e+00, -9.14923899e+00],\n",
       "       [-6.62889599e+00, -8.84071550e+00],\n",
       "       [-6.48944961e+00, -2.06753733e+00],\n",
       "       [-7.17134231e+00, -1.09442245e+01],\n",
       "       [-1.13042466e+01, -3.87696807e+00],\n",
       "       [-9.53654840e+00, -5.12933122e+00],\n",
       "       [-6.09866132e+00, -7.42731125e+00],\n",
       "       [-8.78925618e+00, -2.83764674e+00],\n",
       "       [-7.32386504e+00, -7.96393491e+00],\n",
       "       [-1.00330804e+01, -1.84274349e+00],\n",
       "       [-1.03619773e+00,  3.97153319e+00],\n",
       "       [-6.42829877e+00, -6.74397472e+00],\n",
       "       [-2.87930430e+00,  6.85585852e+00],\n",
       "       [-1.05299465e+01, -2.83521515e+00],\n",
       "       [-6.11423078e+00, -3.20893543e+00],\n",
       "       [-1.78245013e+00,  3.47072043e+00],\n",
       "       [-8.95271809e+00, -3.34483385e+00],\n",
       "       [-5.16617901e+00, -3.79170586e+00],\n",
       "       [-1.64215050e+00,  3.28447114e+00],\n",
       "       [-8.33534296e+00, -7.87023257e+00],\n",
       "       [-6.31107706e+00, -3.92118081e+00],\n",
       "       [-1.78002448e+00,  3.17336913e+00],\n",
       "       [-1.68417686e+00,  3.63132825e+00],\n",
       "       [-1.05552072e+01, -3.01417980e+00],\n",
       "       [-5.34354009e+00, -2.13897664e+00],\n",
       "       [-1.15365057e+01, -4.40124373e+00],\n",
       "       [-4.89503758e+00, -2.48633456e+00],\n",
       "       [-5.44396990e+00, -8.95941292e+00],\n",
       "       [-1.58173878e+00,  5.02487013e+00],\n",
       "       [-7.02993859e+00, -6.69931052e+00],\n",
       "       [-6.17074238e+00, -2.56078204e+00],\n",
       "       [-2.22186534e+00,  6.36136794e+00],\n",
       "       [-7.57385446e+00, -8.31971406e+00],\n",
       "       [-7.65822594e+00, -7.64292051e+00],\n",
       "       [-6.89501293e+00, -9.31723608e+00],\n",
       "       [-1.11141825e+01, -3.87242145e+00],\n",
       "       [-7.94152277e-01,  2.10495117e+00],\n",
       "       [-6.42803193e+00, -5.52129397e+00],\n",
       "       [-5.89780702e+00, -8.19289680e+00],\n",
       "       [-6.59169697e+00, -2.44779959e+00],\n",
       "       [-6.45785776e+00, -3.30981436e+00],\n",
       "       [-1.07755713e+01, -2.83750744e+00],\n",
       "       [-1.02341495e+01, -3.22553505e+00],\n",
       "       [-6.26681839e+00, -8.25516014e+00],\n",
       "       [-5.20580980e+00, -3.29853839e+00],\n",
       "       [-5.46045264e+00, -2.30831553e+00],\n",
       "       [-7.04259952e+00, -3.45332351e+00],\n",
       "       [-6.09962804e+00, -3.14226915e+00],\n",
       "       [-5.66006950e+00, -3.43776965e+00],\n",
       "       [-7.08097398e+00, -3.03972377e+00],\n",
       "       [-8.41264712e+00, -6.68248825e+00],\n",
       "       [-7.36513410e+00, -1.38859731e+00],\n",
       "       [-1.04166504e+01, -4.43253346e+00],\n",
       "       [-6.41623854e+00, -8.04588481e+00],\n",
       "       [-5.88919348e+00, -2.37049472e+00],\n",
       "       [-1.42946517e+00,  5.16850105e+00],\n",
       "       [-6.56118069e+00, -3.95967311e+00],\n",
       "       [-1.47299851e+00,  4.81654152e+00],\n",
       "       [-5.88100804e+00, -3.31692615e+00],\n",
       "       [-1.04125594e+01, -3.50140251e+00],\n",
       "       [-8.55209377e+00, -3.15841000e+00],\n",
       "       [-7.90673749e-01,  5.15690151e+00],\n",
       "       [-1.00754365e-01,  4.51589257e+00],\n",
       "       [-1.30901393e+00,  3.09420646e+00],\n",
       "       [-9.54755699e+00, -2.18801345e+00],\n",
       "       [-5.32030011e+00, -2.99303869e+00],\n",
       "       [-9.48229870e+00, -5.06821960e+00],\n",
       "       [-6.74361627e+00, -8.87844303e+00],\n",
       "       [-1.02518924e+01, -2.55350460e+00],\n",
       "       [-1.96576392e+00,  5.23446451e+00],\n",
       "       [-5.88036774e+00, -2.36326290e+00],\n",
       "       [-7.34774574e+00, -8.41955499e+00],\n",
       "       [-7.58703957e-01,  3.72276201e+00],\n",
       "       [-8.41357863e+00, -6.85069257e+00],\n",
       "       [-8.20576492e-01,  5.33759195e+00],\n",
       "       [-7.93489041e+00, -7.78403764e+00],\n",
       "       [-5.69446566e+00, -4.06205304e+00],\n",
       "       [-8.57698874e-01,  4.45305717e+00],\n",
       "       [ 1.50975008e-01,  3.10076295e+00],\n",
       "       [-6.55394441e+00, -6.44256627e+00],\n",
       "       [-1.09316272e+01, -4.48636887e+00],\n",
       "       [-6.50155596e+00, -4.65329331e+00],\n",
       "       [-6.93650519e+00, -6.39281292e+00],\n",
       "       [-1.01336898e+01, -4.75061833e+00],\n",
       "       [-9.89148978e+00, -5.47902886e+00],\n",
       "       [-8.89871617e+00, -4.85498304e+00],\n",
       "       [-8.11394993e+00, -7.83656921e+00],\n",
       "       [-5.29078354e+00, -3.64846688e+00],\n",
       "       [-1.41076074e+00,  4.10984872e+00],\n",
       "       [-9.50537595e+00, -4.63402669e+00],\n",
       "       [-7.82749456e+00, -2.51032104e+00],\n",
       "       [-6.38088086e+00, -8.50663809e+00],\n",
       "       [-8.96014913e+00, -8.06349899e+00],\n",
       "       [-7.66603898e+00, -7.59715459e+00],\n",
       "       [-6.46534407e+00, -2.85544633e+00]])"
      ]
     },
     "execution_count": 117,
     "metadata": {},
     "output_type": "execute_result"
    }
   ],
   "source": [
    "X"
   ]
  },
  {
   "cell_type": "code",
   "execution_count": 118,
   "metadata": {},
   "outputs": [
    {
     "data": {
      "text/plain": [
       "array([2, 2, 1, 0, 3, 0, 3, 3, 1, 3, 2, 2, 3, 0, 3, 2, 1, 2, 0, 3, 1, 1,\n",
       "       3, 0, 3, 3, 0, 0, 1, 3, 2, 0, 3, 2, 3, 2, 1, 1, 2, 1, 3, 1, 0, 3,\n",
       "       3, 2, 1, 3, 0, 0, 0, 1, 1, 3, 2, 1, 1, 1, 1, 3, 0, 0, 1, 3, 0, 3,\n",
       "       2, 3, 1, 1, 2, 1, 3, 2, 3, 3, 2, 3, 3, 1, 0, 0, 1, 0, 0, 1, 1, 0,\n",
       "       1, 1, 0, 2, 1, 3, 0, 2, 2, 3, 2, 0, 0, 2, 0, 1, 0, 3, 3, 0, 0, 1,\n",
       "       3, 2, 0, 1, 0, 1, 0, 3, 0, 3, 1, 2, 2, 1, 3, 1, 0, 2, 2, 3, 0, 1,\n",
       "       1, 1, 1, 2, 0, 3, 0, 0, 3, 2, 3, 0, 0, 0, 3, 3, 2, 2, 1, 1, 0, 2,\n",
       "       0, 1, 1, 1, 1, 1, 1, 1, 1, 1, 0, 2, 2, 2, 3, 0, 2, 1, 3, 2, 0, 1,\n",
       "       1, 1, 1, 2, 3, 1, 0, 2, 2, 1, 3, 2, 2, 3, 0, 0, 2, 2, 3, 0, 3, 2,\n",
       "       2, 0, 2, 1, 0, 3, 3, 2, 3, 1, 2, 3, 1, 3, 1, 2, 3, 3, 3, 0, 1, 0,\n",
       "       3, 2, 1, 3, 1, 1, 1, 0, 3, 0, 2, 1, 2, 1, 0, 0, 1, 2, 0, 2, 3, 1,\n",
       "       2, 2, 2, 2, 3, 1, 2, 1, 3, 0, 0, 3, 3, 0, 1, 3, 1, 0, 3, 0, 1, 1,\n",
       "       0, 3, 2, 2, 1, 1, 1, 3, 0, 0, 3, 0, 1, 2, 0, 2, 0, 2, 2, 0, 2, 0,\n",
       "       0, 3, 1, 1, 1, 3, 3, 3, 2, 0, 2, 1, 2, 3, 2, 3, 2, 1, 2, 2, 1, 2,\n",
       "       2, 1, 0, 2, 3, 3, 0, 0, 3, 2, 0, 0, 3, 2, 0, 0, 3, 1, 0, 1, 3, 2,\n",
       "       2, 0, 1, 2, 3, 0, 0, 3, 3, 1, 2, 3, 0, 0, 1, 0, 0, 0, 0, 2, 2, 3,\n",
       "       0, 1, 3, 2, 0, 1, 0, 3, 0, 1, 3, 1, 0, 3, 3, 2, 0, 2, 2, 2, 2, 2,\n",
       "       2, 1, 2, 0, 2, 0, 0, 1, 0, 3, 1, 2, 2, 0, 1, 0, 3, 2, 3, 1, 2, 1,\n",
       "       1, 0, 0, 2, 1, 3, 0, 3, 3, 2, 2, 3, 2, 1, 1, 2, 1, 2, 1, 0, 2, 0,\n",
       "       1, 3, 0, 1, 3, 0, 2, 3, 0, 0, 1, 3, 1, 3, 2, 0, 2, 3, 0, 2, 2, 2,\n",
       "       1, 0, 3, 2, 3, 3, 1, 1, 2, 3, 3, 3, 3, 3, 3, 2, 3, 1, 2, 3, 0, 3,\n",
       "       0, 3, 1, 3, 0, 0, 0, 1, 3, 1, 2, 1, 0, 3, 2, 0, 2, 0, 2, 3, 0, 0,\n",
       "       2, 1, 3, 2, 1, 1, 1, 2, 3, 0, 1, 3, 2, 2, 2, 3])"
      ]
     },
     "execution_count": 118,
     "metadata": {},
     "output_type": "execute_result"
    }
   ],
   "source": [
    "y"
   ]
  },
  {
   "cell_type": "markdown",
   "metadata": {},
   "source": [
    "### Choosing $K$: The Gap Statistic\n",
    "\n",
    "There is one last method worth covering for picking $K$, the so-called Gap statistic. The computation for the gap statistic builds on the sum-of-squares established in the Elbow method discussion, and compares it to the sum-of-squares of a \"null distribution,\" that is, a random set of points with no clustering. The estimate for the optimal number of clusters $K$ is the value for which $\\log{SS}$ falls the farthest below that of the reference distribution:\n",
    "\n",
    "$$G_k = E_n^*\\{\\log SS_k\\} - \\log SS_k$$\n",
    "\n",
    "In other words a good clustering yields a much larger difference between the reference distribution and the clustered data. The reference distribution is a Monte Carlo (randomization) procedure that constructs $B$ random distributions of points within the bounding box (limits) of the original data and then applies K-means to this synthetic distribution of data points.. $E_n^*\\{\\log SS_k\\}$ is just the average $SS_k$ over all $B$ replicates. We then compute the standard deviation $\\sigma_{SS}$ of the values of $SS_k$ computed from the $B$ replicates of the reference distribution and compute\n",
    "\n",
    "$$s_k = \\sqrt{1+1/B}\\sigma_{SS}$$\n",
    "\n",
    "Finally, we choose $K=k$ such that $G_k \\geq G_{k+1} - s_{k+1}$."
   ]
  },
  {
   "cell_type": "markdown",
   "metadata": {},
   "source": [
    "### Aside: Choosing $K$ when we Have Labels\n",
    "\n",
    "Unsupervised learning expects that we do not have the labels. In some situations, we may wish to cluster data that is labeled. Computing the optimal number of clusters is much easier if we have access to labels. There are several methods available. We will not go into the math or details since it is rare to have access to the labels, but we provide the names and references of these measures.\n",
    "\n",
    "* Adjusted Rand Index\n",
    "* Mutual Information\n",
    "* V-Measure\n",
    "* Fowlkes–Mallows index\n",
    "\n",
    "See [this article](http://scikit-learn.org/stable/modules/clustering.html) for more information about these metrics."
   ]
  },
  {
   "cell_type": "markdown",
   "metadata": {},
   "source": [
    "## Visualizing Clusters using PCA\n",
    "\n",
    "How do we visualize clusters? If we only had two features, we could likely plot the data as is. But we have 100 data points each containing 32 features (dimensions). Principal Component Analysis (PCA) will help us reduce the dimensionality of our data from 32 to something lower. For a visualization on the coordinate plane, we will use 2 dimensions. In this exercise, we're going to use it to transform our multi-dimensional dataset into a 2 dimensional dataset.\n",
    "\n",
    "This is only one use of PCA for dimension reduction. We can also use PCA when we want to perform regression but we have a set of highly correlated variables. PCA untangles these correlations into a smaller number of features/predictors all of which are orthogonal (not correlated). PCA is also used to reduce a large set of variables into a much smaller one."
   ]
  },
  {
   "cell_type": "markdown",
   "metadata": {},
   "source": [
    "<div class=\"span5 alert alert-info\">\n",
    "<h3>Checkup Exercise Set IV</h3>\n",
    "\n",
    "<p><b>Exercise:</b> Use PCA to plot your clusters:</p>\n",
    "\n",
    "<ul>\n",
    "<li> Use scikit-learn's [`PCA`](http://scikit-learn.org/stable/modules/generated/sklearn.decomposition.PCA.html) function to reduce the dimensionality of your clustering data to 2 components\n",
    "<li> Create a data frame with the following fields:\n",
    "  <ul>\n",
    "  <li> customer name\n",
    "  <li> cluster id the customer belongs to\n",
    "  <li> the two PCA components (label them `x` and `y`)\n",
    "  </ul>\n",
    "<li> Plot a scatterplot of the `x` vs `y` columns\n",
    "<li> Color-code points differently based on cluster ID\n",
    "<li> How do the clusters look? \n",
    "<li> Based on what you see, what seems to be the best value for $K$? Moreover, which method of choosing $K$ seems to have produced the optimal result visually?\n",
    "</ul>\n",
    "\n",
    "<p><b>Exercise:</b> Now look at both the original raw data about the offers and transactions and look at the fitted clusters. Tell a story about the clusters in context of the original data. For example, do the clusters correspond to wine variants or something else interesting?</p>\n",
    "</div>"
   ]
  },
  {
   "cell_type": "code",
   "execution_count": 111,
   "metadata": {},
   "outputs": [
    {
     "data": {
      "text/html": [
       "<div>\n",
       "<style scoped>\n",
       "    .dataframe tbody tr th:only-of-type {\n",
       "        vertical-align: middle;\n",
       "    }\n",
       "\n",
       "    .dataframe tbody tr th {\n",
       "        vertical-align: top;\n",
       "    }\n",
       "\n",
       "    .dataframe thead th {\n",
       "        text-align: right;\n",
       "    }\n",
       "</style>\n",
       "<table border=\"1\" class=\"dataframe\">\n",
       "  <thead>\n",
       "    <tr style=\"text-align: right;\">\n",
       "      <th>offer_id</th>\n",
       "      <th>customer_name</th>\n",
       "      <th>cluster</th>\n",
       "      <th>x</th>\n",
       "      <th>y</th>\n",
       "    </tr>\n",
       "  </thead>\n",
       "  <tbody>\n",
       "    <tr>\n",
       "      <th>0</th>\n",
       "      <td>Adams</td>\n",
       "      <td>1</td>\n",
       "      <td>1.007580</td>\n",
       "      <td>0.108215</td>\n",
       "    </tr>\n",
       "    <tr>\n",
       "      <th>1</th>\n",
       "      <td>Allen</td>\n",
       "      <td>2</td>\n",
       "      <td>-0.287539</td>\n",
       "      <td>0.044715</td>\n",
       "    </tr>\n",
       "    <tr>\n",
       "      <th>2</th>\n",
       "      <td>Anderson</td>\n",
       "      <td>2</td>\n",
       "      <td>-0.392032</td>\n",
       "      <td>1.038391</td>\n",
       "    </tr>\n",
       "    <tr>\n",
       "      <th>3</th>\n",
       "      <td>Bailey</td>\n",
       "      <td>1</td>\n",
       "      <td>0.699477</td>\n",
       "      <td>-0.022542</td>\n",
       "    </tr>\n",
       "    <tr>\n",
       "      <th>4</th>\n",
       "      <td>Baker</td>\n",
       "      <td>0</td>\n",
       "      <td>0.088183</td>\n",
       "      <td>-0.471695</td>\n",
       "    </tr>\n",
       "  </tbody>\n",
       "</table>\n",
       "</div>"
      ],
      "text/plain": [
       "offer_id customer_name  cluster         x         y\n",
       "0                Adams        1  1.007580  0.108215\n",
       "1                Allen        2 -0.287539  0.044715\n",
       "2             Anderson        2 -0.392032  1.038391\n",
       "3               Bailey        1  0.699477 -0.022542\n",
       "4                Baker        0  0.088183 -0.471695"
      ]
     },
     "execution_count": 111,
     "metadata": {},
     "output_type": "execute_result"
    }
   ],
   "source": [
    "#your turn\n",
    "from sklearn.decomposition import PCA\n",
    "\n",
    "pca = PCA(n_components=2)\n",
    "matrix['x'] = pca.fit_transform(matrix[x_cols])[:,0]\n",
    "matrix['y'] = pca.fit_transform(matrix[x_cols])[:,1]\n",
    "matrix = matrix.reset_index()\n",
    "\n",
    "customer_clusters = matrix[['customer_name', 'cluster', 'x', 'y']]\n",
    "customer_clusters.head()"
   ]
  },
  {
   "cell_type": "code",
   "execution_count": 43,
   "metadata": {},
   "outputs": [
    {
     "data": {
      "image/png": "[encoded data removed]",
      "text/plain": [
       "<matplotlib.figure.Figure at 0x1a259d21e10>"
      ]
     },
     "metadata": {},
     "output_type": "display_data"
    }
   ],
   "source": [
    "plt.scatter(customer_clusters['x'], customer_clusters['y'], c=customer_clusters['cluster'])\n",
    "plt.show()"
   ]
  },
  {
   "cell_type": "code",
   "execution_count": 44,
   "metadata": {},
   "outputs": [],
   "source": [
    "df0 = matrix[matrix['cluster'] == 0]\n",
    "df1 = matrix[matrix['cluster'] == 1]\n",
    "df2 = matrix[matrix['cluster'] == 2]"
   ]
  },
  {
   "cell_type": "code",
   "execution_count": 45,
   "metadata": {},
   "outputs": [
    {
     "data": {
      "text/plain": [
       "1.0"
      ]
     },
     "execution_count": 45,
     "metadata": {},
     "output_type": "execute_result"
    }
   ],
   "source": [
    "df01 = np.sum(df0[1])\n",
    "df01"
   ]
  },
  {
   "cell_type": "code",
   "execution_count": 46,
   "metadata": {},
   "outputs": [
    {
     "data": {
      "text/plain": [
       "6.0"
      ]
     },
     "execution_count": 46,
     "metadata": {},
     "output_type": "execute_result"
    }
   ],
   "source": [
    "df02 = np.sum(df0[2])\n",
    "df02"
   ]
  },
  {
   "cell_type": "code",
   "execution_count": 47,
   "metadata": {},
   "outputs": [
    {
     "ename": "NameError",
     "evalue": "name 'df022' is not defined",
     "output_type": "error",
     "traceback": [
      "\u001b[1;31m---------------------------------------------------------------------------\u001b[0m",
      "\u001b[1;31mNameError\u001b[0m                                 Traceback (most recent call last)",
      "\u001b[1;32m<ipython-input-47-9738028cdae7>\u001b[0m in \u001b[0;36m<module>\u001b[1;34m()\u001b[0m\n\u001b[1;32m----> 1\u001b[1;33m \u001b[0mdf022\u001b[0m\u001b[1;33m\u001b[0m\u001b[0m\n\u001b[0m",
      "\u001b[1;31mNameError\u001b[0m: name 'df022' is not defined"
     ]
    }
   ],
   "source": [
    "df022"
   ]
  },
  {
   "cell_type": "code",
   "execution_count": 48,
   "metadata": {},
   "outputs": [],
   "source": [
    "df01 = np.sum(df0[1])\n",
    "df02 = np.sum(df0[2])\n",
    "df03 = np.sum(df0[3])\n",
    "df04 = np.sum(df0[4])\n",
    "df05 = np.sum(df0[5])\n",
    "df06 = np.sum(df0[6])\n",
    "df07 = np.sum(df0[7])\n",
    "df08 = np.sum(df0[8])\n",
    "df09 = np.sum(df0[9])\n",
    "df010 = np.sum(df0[10])\n",
    "df011 = np.sum(df0[11])\n",
    "df012 = np.sum(df0[12])\n",
    "df013 = np.sum(df0[13])\n",
    "df014 = np.sum(df0[14])\n",
    "df015 = np.sum(df0[15])\n",
    "df016 = np.sum(df0[16])\n",
    "df017 = np.sum(df0[17])\n",
    "df018 = np.sum(df0[18])\n",
    "df019 = np.sum(df0[19])\n",
    "df020 = np.sum(df0[20])\n",
    "df021 = np.sum(df0[21])\n",
    "df022 = np.sum(df0[22])\n",
    "df023 = np.sum(df0[23])\n",
    "df024 = np.sum(df0[24])\n",
    "df025 = np.sum(df0[25])\n",
    "df026 = np.sum(df0[26])\n",
    "df027 = np.sum(df0[27])\n",
    "df028 = np.sum(df0[28])\n",
    "df029 = np.sum(df0[29])\n",
    "df030 = np.sum(df0[30])\n",
    "df031 = np.sum(df0[31])\n",
    "df032 = np.sum(df0[32])"
   ]
  },
  {
   "cell_type": "code",
   "execution_count": 49,
   "metadata": {},
   "outputs": [],
   "source": [
    "df11 = np.sum(df1[1])\n",
    "df12 = np.sum(df1[2])\n",
    "df13 = np.sum(df1[3])\n",
    "df14 = np.sum(df1[4])\n",
    "df15 = np.sum(df1[5])\n",
    "df16 = np.sum(df1[6])\n",
    "df17 = np.sum(df1[7])\n",
    "df18 = np.sum(df1[8])\n",
    "df19 = np.sum(df1[9])\n",
    "df110 = np.sum(df1[10])\n",
    "df111 = np.sum(df1[11])\n",
    "df112 = np.sum(df1[12])\n",
    "df113 = np.sum(df1[13])\n",
    "df114 = np.sum(df1[14])\n",
    "df115 = np.sum(df1[15])\n",
    "df116 = np.sum(df1[16])\n",
    "df117 = np.sum(df1[17])\n",
    "df118 = np.sum(df1[18])\n",
    "df119 = np.sum(df1[19])\n",
    "df120 = np.sum(df1[20])\n",
    "df121 = np.sum(df1[21])\n",
    "df122 = np.sum(df1[22])\n",
    "df123 = np.sum(df1[23])\n",
    "df124 = np.sum(df1[24])\n",
    "df125 = np.sum(df1[25])\n",
    "df126 = np.sum(df1[26])\n",
    "df127 = np.sum(df1[27])\n",
    "df128 = np.sum(df1[28])\n",
    "df129 = np.sum(df1[29])\n",
    "df130 = np.sum(df1[30])\n",
    "df131 = np.sum(df1[31])\n",
    "df132 = np.sum(df1[32])"
   ]
  },
  {
   "cell_type": "code",
   "execution_count": 50,
   "metadata": {},
   "outputs": [],
   "source": [
    "df21 = np.sum(df2[1])\n",
    "df22 = np.sum(df2[2])\n",
    "df23 = np.sum(df2[3])\n",
    "df24 = np.sum(df2[4])\n",
    "df25 = np.sum(df2[5])\n",
    "df26 = np.sum(df2[6])\n",
    "df27 = np.sum(df2[7])\n",
    "df28 = np.sum(df2[8])\n",
    "df29 = np.sum(df2[9])\n",
    "df210 = np.sum(df2[10])\n",
    "df211 = np.sum(df2[11])\n",
    "df212 = np.sum(df2[12])\n",
    "df213 = np.sum(df2[13])\n",
    "df214 = np.sum(df2[14])\n",
    "df215 = np.sum(df2[15])\n",
    "df216 = np.sum(df2[16])\n",
    "df217 = np.sum(df2[17])\n",
    "df218 = np.sum(df2[18])\n",
    "df219 = np.sum(df2[19])\n",
    "df220 = np.sum(df2[20])\n",
    "df221 = np.sum(df2[21])\n",
    "df222 = np.sum(df2[22])\n",
    "df223 = np.sum(df2[23])\n",
    "df224 = np.sum(df2[24])\n",
    "df225 = np.sum(df2[25])\n",
    "df226 = np.sum(df2[26])\n",
    "df227 = np.sum(df2[27])\n",
    "df228 = np.sum(df2[28])\n",
    "df229 = np.sum(df2[29])\n",
    "df230 = np.sum(df2[30])\n",
    "df231 = np.sum(df2[31])\n",
    "df232 = np.sum(df2[32])"
   ]
  },
  {
   "cell_type": "code",
   "execution_count": 51,
   "metadata": {},
   "outputs": [],
   "source": [
    "df0sum = [df01,df02, df03, df04, df05, df06, df07, df08, df09, df010, df011, df012, df013, df014, df015, df016, df017, df018,\n",
    "        df019, df020, df021, df022, df023, df024, df025, df026, df027, df028, df029, df030, df031, df032]"
   ]
  },
  {
   "cell_type": "code",
   "execution_count": 52,
   "metadata": {
    "scrolled": true
   },
   "outputs": [
    {
     "data": {
      "text/html": [
       "<div>\n",
       "<style scoped>\n",
       "    .dataframe tbody tr th:only-of-type {\n",
       "        vertical-align: middle;\n",
       "    }\n",
       "\n",
       "    .dataframe tbody tr th {\n",
       "        vertical-align: top;\n",
       "    }\n",
       "\n",
       "    .dataframe thead th {\n",
       "        text-align: right;\n",
       "    }\n",
       "</style>\n",
       "<table border=\"1\" class=\"dataframe\">\n",
       "  <thead>\n",
       "    <tr style=\"text-align: right;\">\n",
       "      <th></th>\n",
       "      <th>Quanity</th>\n",
       "      <th>ID</th>\n",
       "    </tr>\n",
       "  </thead>\n",
       "  <tbody>\n",
       "    <tr>\n",
       "      <th>0</th>\n",
       "      <td>1.0</td>\n",
       "      <td>0</td>\n",
       "    </tr>\n",
       "    <tr>\n",
       "      <th>1</th>\n",
       "      <td>6.0</td>\n",
       "      <td>1</td>\n",
       "    </tr>\n",
       "    <tr>\n",
       "      <th>2</th>\n",
       "      <td>0.0</td>\n",
       "      <td>2</td>\n",
       "    </tr>\n",
       "    <tr>\n",
       "      <th>3</th>\n",
       "      <td>0.0</td>\n",
       "      <td>3</td>\n",
       "    </tr>\n",
       "    <tr>\n",
       "      <th>4</th>\n",
       "      <td>0.0</td>\n",
       "      <td>4</td>\n",
       "    </tr>\n",
       "  </tbody>\n",
       "</table>\n",
       "</div>"
      ],
      "text/plain": [
       "   Quanity  ID\n",
       "0      1.0   0\n",
       "1      6.0   1\n",
       "2      0.0   2\n",
       "3      0.0   3\n",
       "4      0.0   4"
      ]
     },
     "execution_count": 52,
     "metadata": {},
     "output_type": "execute_result"
    }
   ],
   "source": [
    "df0sumdf = pd.DataFrame(df0sum, columns= ['Quanity'])\n",
    "df0sumdf['ID'] = range(len(df0sumdf))\n",
    "df0sumdf.head()"
   ]
  },
  {
   "cell_type": "code",
   "execution_count": 53,
   "metadata": {},
   "outputs": [
    {
     "data": {
      "image/png": "[encoded data removed]",
      "text/plain": [
       "<matplotlib.figure.Figure at 0x1a259e15550>"
      ]
     },
     "metadata": {},
     "output_type": "display_data"
    }
   ],
   "source": [
    "plt.bar(x = df0sumdf['ID'], height = df0sumdf['Quanity'])\n",
    "plt.xlabel('ID')\n",
    "plt.ylabel('Count')\n",
    "plt.title('Cluster 0')\n",
    "plt.show()"
   ]
  },
  {
   "cell_type": "code",
   "execution_count": 54,
   "metadata": {},
   "outputs": [],
   "source": [
    "df1sum = [df11,df12, df13, df14, df15, df16, df17, df18, df19, df110, df111, df112, df113, df114, df115, df116, df117, df118,\n",
    "        df119, df120, df121, df122, df123, df124, df125, df126, df127, df128, df129, df130, df131, df132]"
   ]
  },
  {
   "cell_type": "code",
   "execution_count": 55,
   "metadata": {},
   "outputs": [
    {
     "data": {
      "text/html": [
       "<div>\n",
       "<style scoped>\n",
       "    .dataframe tbody tr th:only-of-type {\n",
       "        vertical-align: middle;\n",
       "    }\n",
       "\n",
       "    .dataframe tbody tr th {\n",
       "        vertical-align: top;\n",
       "    }\n",
       "\n",
       "    .dataframe thead th {\n",
       "        text-align: right;\n",
       "    }\n",
       "</style>\n",
       "<table border=\"1\" class=\"dataframe\">\n",
       "  <thead>\n",
       "    <tr style=\"text-align: right;\">\n",
       "      <th></th>\n",
       "      <th>Quanity</th>\n",
       "      <th>ID</th>\n",
       "    </tr>\n",
       "  </thead>\n",
       "  <tbody>\n",
       "    <tr>\n",
       "      <th>0</th>\n",
       "      <td>9.0</td>\n",
       "      <td>0</td>\n",
       "    </tr>\n",
       "    <tr>\n",
       "      <th>1</th>\n",
       "      <td>4.0</td>\n",
       "      <td>1</td>\n",
       "    </tr>\n",
       "    <tr>\n",
       "      <th>2</th>\n",
       "      <td>6.0</td>\n",
       "      <td>2</td>\n",
       "    </tr>\n",
       "    <tr>\n",
       "      <th>3</th>\n",
       "      <td>12.0</td>\n",
       "      <td>3</td>\n",
       "    </tr>\n",
       "    <tr>\n",
       "      <th>4</th>\n",
       "      <td>4.0</td>\n",
       "      <td>4</td>\n",
       "    </tr>\n",
       "  </tbody>\n",
       "</table>\n",
       "</div>"
      ],
      "text/plain": [
       "   Quanity  ID\n",
       "0      9.0   0\n",
       "1      4.0   1\n",
       "2      6.0   2\n",
       "3     12.0   3\n",
       "4      4.0   4"
      ]
     },
     "execution_count": 55,
     "metadata": {},
     "output_type": "execute_result"
    }
   ],
   "source": [
    "df1sumdf = pd.DataFrame(df1sum, columns= ['Quanity'])\n",
    "df1sumdf['ID'] = range(len(df1sumdf))\n",
    "df1sumdf.head()"
   ]
  },
  {
   "cell_type": "code",
   "execution_count": 56,
   "metadata": {},
   "outputs": [
    {
     "data": {
      "image/png": "[encoded data removed]",
      "text/plain": [
       "<matplotlib.figure.Figure at 0x1a259e153c8>"
      ]
     },
     "metadata": {},
     "output_type": "display_data"
    }
   ],
   "source": [
    "plt.bar(x = df1sumdf['ID'], height = df1sumdf['Quanity'])\n",
    "plt.xlabel('ID')\n",
    "plt.ylabel('Count')\n",
    "plt.title('Cluster 1')\n",
    "plt.show()"
   ]
  },
  {
   "cell_type": "code",
   "execution_count": 57,
   "metadata": {},
   "outputs": [],
   "source": [
    "df2sum = [df21,df22, df23, df24, df25, df26, df27, df28, df29, df210, df211, df212, df213, df214, df215, df216, df217, df218,\n",
    "        df219, df220, df221, df222, df223, df224, df225, df226, df227, df228, df229, df230, df231, df232]"
   ]
  },
  {
   "cell_type": "code",
   "execution_count": 58,
   "metadata": {},
   "outputs": [
    {
     "data": {
      "text/html": [
       "<div>\n",
       "<style scoped>\n",
       "    .dataframe tbody tr th:only-of-type {\n",
       "        vertical-align: middle;\n",
       "    }\n",
       "\n",
       "    .dataframe tbody tr th {\n",
       "        vertical-align: top;\n",
       "    }\n",
       "\n",
       "    .dataframe thead th {\n",
       "        text-align: right;\n",
       "    }\n",
       "</style>\n",
       "<table border=\"1\" class=\"dataframe\">\n",
       "  <thead>\n",
       "    <tr style=\"text-align: right;\">\n",
       "      <th></th>\n",
       "      <th>Quanity</th>\n",
       "      <th>ID</th>\n",
       "    </tr>\n",
       "  </thead>\n",
       "  <tbody>\n",
       "    <tr>\n",
       "      <th>0</th>\n",
       "      <td>0.0</td>\n",
       "      <td>0</td>\n",
       "    </tr>\n",
       "    <tr>\n",
       "      <th>1</th>\n",
       "      <td>0.0</td>\n",
       "      <td>1</td>\n",
       "    </tr>\n",
       "    <tr>\n",
       "      <th>2</th>\n",
       "      <td>0.0</td>\n",
       "      <td>2</td>\n",
       "    </tr>\n",
       "    <tr>\n",
       "      <th>3</th>\n",
       "      <td>0.0</td>\n",
       "      <td>3</td>\n",
       "    </tr>\n",
       "    <tr>\n",
       "      <th>4</th>\n",
       "      <td>0.0</td>\n",
       "      <td>4</td>\n",
       "    </tr>\n",
       "  </tbody>\n",
       "</table>\n",
       "</div>"
      ],
      "text/plain": [
       "   Quanity  ID\n",
       "0      0.0   0\n",
       "1      0.0   1\n",
       "2      0.0   2\n",
       "3      0.0   3\n",
       "4      0.0   4"
      ]
     },
     "execution_count": 58,
     "metadata": {},
     "output_type": "execute_result"
    }
   ],
   "source": [
    "df2sumdf = pd.DataFrame(df2sum, columns= ['Quanity'])\n",
    "df2sumdf['ID'] = range(len(df2sumdf))\n",
    "df2sumdf.head()"
   ]
  },
  {
   "cell_type": "code",
   "execution_count": 59,
   "metadata": {},
   "outputs": [
    {
     "data": {
      "image/png": "[encoded data removed]",
      "text/plain": [
       "<matplotlib.figure.Figure at 0x1a25bfec320>"
      ]
     },
     "metadata": {},
     "output_type": "display_data"
    }
   ],
   "source": [
    "plt.bar(x = df2sumdf['ID'], height = df2sumdf['Quanity'])\n",
    "plt.xlabel('ID')\n",
    "plt.ylabel('Count')\n",
    "plt.title('Cluster 2')\n",
    "plt.show()"
   ]
  },
  {
   "cell_type": "code",
   "execution_count": 60,
   "metadata": {},
   "outputs": [],
   "source": [
    "#Using the offer information spreadsheet, we can see that there the three clusters have pretty distinct characteristics\n",
    "# Cluster 0 (The Partiers):  This group buys almost everything but above all else, they love champagne.\n",
    "#Champagne makes up the groups top 4 orders.  This group will also order other wines though including wines that are past peak\n",
    "#This group could be caterers or people who also have a lot of parties.  They should receive most offers\n",
    "\n",
    "#Cluster 1 (The Practical Drinkers): This group likes sparkling wine but doesn't usually get champagne (which is typically more\n",
    "# expensive).  This group is smaller and orders less frequently.  They do not like Pinot Noir though\n",
    "# Another notable characteristic of this group is that they only order small minimum quantities.  The 4 largest groups have\n",
    "# a 6 kg minimum.  If there are small batches that need to be shipped out, this is the group to target. Unless it is Pinot Noir.\n",
    "\n",
    "#Cluster 2 (Pinot Noir):  For this cluster, Pinor Noir is the go to wine by a very large margin.  They will occassionally \n",
    "#buy other wines but roughly every 4 months, they will stock up on Pinot Noir.  \n",
    "#To target this cluster, it would be best to send out Pinot Noir specials in the winter, the summer and they fall.\n",
    "#They could also try adding a Pinot Noir sale in the spring"
   ]
  },
  {
   "cell_type": "code",
   "execution_count": 61,
   "metadata": {},
   "outputs": [
    {
     "data": {
      "text/plain": [
       "(49, 37)"
      ]
     },
     "execution_count": 61,
     "metadata": {},
     "output_type": "execute_result"
    }
   ],
   "source": [
    "df1.shape"
   ]
  },
  {
   "cell_type": "code",
   "execution_count": 62,
   "metadata": {},
   "outputs": [
    {
     "data": {
      "text/plain": [
       "(35, 37)"
      ]
     },
     "execution_count": 62,
     "metadata": {},
     "output_type": "execute_result"
    }
   ],
   "source": [
    "df2.shape"
   ]
  },
  {
   "cell_type": "markdown",
   "metadata": {},
   "source": [
    "What we've done is we've taken those columns of 0/1 indicator variables, and we've transformed them into a 2-D dataset. We took one column and arbitrarily called it `x` and then called the other `y`. Now we can throw each point into a scatterplot. We color coded each point based on it's cluster so it's easier to see them."
   ]
  },
  {
   "cell_type": "markdown",
   "metadata": {},
   "source": [
    "<div class=\"span5 alert alert-info\">\n",
    "<h3>Exercise Set V</h3>\n",
    "\n",
    "<p>As we saw earlier, PCA has a lot of other uses. Since we wanted to visualize our data in 2 dimensions, restricted the number of dimensions to 2 in PCA. But what is the true optimal number of dimensions?</p>\n",
    "\n",
    "<p><b>Exercise:</b> Using a new PCA object shown in the next cell, plot the `explained_variance_` field and look for the elbow point, the point where the curve's rate of descent seems to slow sharply. This value is one possible value for the optimal number of dimensions. What is it?</p>\n",
    "</div>"
   ]
  },
  {
   "cell_type": "code",
   "execution_count": 148,
   "metadata": {},
   "outputs": [
    {
     "ename": "ValueError",
     "evalue": "setting an array element with a sequence.",
     "output_type": "error",
     "traceback": [
      "\u001b[1;31m---------------------------------------------------------------------------\u001b[0m",
      "\u001b[1;31mValueError\u001b[0m                                Traceback (most recent call last)",
      "\u001b[1;32m<ipython-input-148-0c313124b040>\u001b[0m in \u001b[0;36m<module>\u001b[1;34m()\u001b[0m\n\u001b[0;32m     20\u001b[0m \u001b[1;33m\u001b[0m\u001b[0m\n\u001b[0;32m     21\u001b[0m \u001b[1;31m# Plot ks vs inertias\u001b[0m\u001b[1;33m\u001b[0m\u001b[1;33m\u001b[0m\u001b[0m\n\u001b[1;32m---> 22\u001b[1;33m \u001b[0mplt\u001b[0m\u001b[1;33m.\u001b[0m\u001b[0mplot\u001b[0m\u001b[1;33m(\u001b[0m\u001b[0mks\u001b[0m\u001b[1;33m,\u001b[0m \u001b[0minertias\u001b[0m\u001b[1;33m,\u001b[0m \u001b[1;34m'-o'\u001b[0m\u001b[1;33m)\u001b[0m\u001b[1;33m\u001b[0m\u001b[0m\n\u001b[0m\u001b[0;32m     23\u001b[0m \u001b[0mplt\u001b[0m\u001b[1;33m.\u001b[0m\u001b[0mxlabel\u001b[0m\u001b[1;33m(\u001b[0m\u001b[1;34m'number of clusters, k'\u001b[0m\u001b[1;33m)\u001b[0m\u001b[1;33m\u001b[0m\u001b[0m\n\u001b[0;32m     24\u001b[0m \u001b[0mplt\u001b[0m\u001b[1;33m.\u001b[0m\u001b[0mylabel\u001b[0m\u001b[1;33m(\u001b[0m\u001b[1;34m'explained variance'\u001b[0m\u001b[1;33m)\u001b[0m\u001b[1;33m\u001b[0m\u001b[0m\n",
      "\u001b[1;32m~\\Anaconda3\\lib\\site-packages\\matplotlib\\pyplot.py\u001b[0m in \u001b[0;36mplot\u001b[1;34m(*args, **kwargs)\u001b[0m\n\u001b[0;32m   3259\u001b[0m                       mplDeprecation)\n\u001b[0;32m   3260\u001b[0m     \u001b[1;32mtry\u001b[0m\u001b[1;33m:\u001b[0m\u001b[1;33m\u001b[0m\u001b[0m\n\u001b[1;32m-> 3261\u001b[1;33m         \u001b[0mret\u001b[0m \u001b[1;33m=\u001b[0m \u001b[0max\u001b[0m\u001b[1;33m.\u001b[0m\u001b[0mplot\u001b[0m\u001b[1;33m(\u001b[0m\u001b[1;33m*\u001b[0m\u001b[0margs\u001b[0m\u001b[1;33m,\u001b[0m \u001b[1;33m**\u001b[0m\u001b[0mkwargs\u001b[0m\u001b[1;33m)\u001b[0m\u001b[1;33m\u001b[0m\u001b[0m\n\u001b[0m\u001b[0;32m   3262\u001b[0m     \u001b[1;32mfinally\u001b[0m\u001b[1;33m:\u001b[0m\u001b[1;33m\u001b[0m\u001b[0m\n\u001b[0;32m   3263\u001b[0m         \u001b[0max\u001b[0m\u001b[1;33m.\u001b[0m\u001b[0m_hold\u001b[0m \u001b[1;33m=\u001b[0m \u001b[0mwashold\u001b[0m\u001b[1;33m\u001b[0m\u001b[0m\n",
      "\u001b[1;32m~\\Anaconda3\\lib\\site-packages\\matplotlib\\__init__.py\u001b[0m in \u001b[0;36minner\u001b[1;34m(ax, *args, **kwargs)\u001b[0m\n\u001b[0;32m   1715\u001b[0m                     warnings.warn(msg % (label_namer, func.__name__),\n\u001b[0;32m   1716\u001b[0m                                   RuntimeWarning, stacklevel=2)\n\u001b[1;32m-> 1717\u001b[1;33m             \u001b[1;32mreturn\u001b[0m \u001b[0mfunc\u001b[0m\u001b[1;33m(\u001b[0m\u001b[0max\u001b[0m\u001b[1;33m,\u001b[0m \u001b[1;33m*\u001b[0m\u001b[0margs\u001b[0m\u001b[1;33m,\u001b[0m \u001b[1;33m**\u001b[0m\u001b[0mkwargs\u001b[0m\u001b[1;33m)\u001b[0m\u001b[1;33m\u001b[0m\u001b[0m\n\u001b[0m\u001b[0;32m   1718\u001b[0m         \u001b[0mpre_doc\u001b[0m \u001b[1;33m=\u001b[0m \u001b[0minner\u001b[0m\u001b[1;33m.\u001b[0m\u001b[0m__doc__\u001b[0m\u001b[1;33m\u001b[0m\u001b[0m\n\u001b[0;32m   1719\u001b[0m         \u001b[1;32mif\u001b[0m \u001b[0mpre_doc\u001b[0m \u001b[1;32mis\u001b[0m \u001b[1;32mNone\u001b[0m\u001b[1;33m:\u001b[0m\u001b[1;33m\u001b[0m\u001b[0m\n",
      "\u001b[1;32m~\\Anaconda3\\lib\\site-packages\\matplotlib\\axes\\_axes.py\u001b[0m in \u001b[0;36mplot\u001b[1;34m(self, *args, **kwargs)\u001b[0m\n\u001b[0;32m   1371\u001b[0m \u001b[1;33m\u001b[0m\u001b[0m\n\u001b[0;32m   1372\u001b[0m         \u001b[1;32mfor\u001b[0m \u001b[0mline\u001b[0m \u001b[1;32min\u001b[0m \u001b[0mself\u001b[0m\u001b[1;33m.\u001b[0m\u001b[0m_get_lines\u001b[0m\u001b[1;33m(\u001b[0m\u001b[1;33m*\u001b[0m\u001b[0margs\u001b[0m\u001b[1;33m,\u001b[0m \u001b[1;33m**\u001b[0m\u001b[0mkwargs\u001b[0m\u001b[1;33m)\u001b[0m\u001b[1;33m:\u001b[0m\u001b[1;33m\u001b[0m\u001b[0m\n\u001b[1;32m-> 1373\u001b[1;33m             \u001b[0mself\u001b[0m\u001b[1;33m.\u001b[0m\u001b[0madd_line\u001b[0m\u001b[1;33m(\u001b[0m\u001b[0mline\u001b[0m\u001b[1;33m)\u001b[0m\u001b[1;33m\u001b[0m\u001b[0m\n\u001b[0m\u001b[0;32m   1374\u001b[0m             \u001b[0mlines\u001b[0m\u001b[1;33m.\u001b[0m\u001b[0mappend\u001b[0m\u001b[1;33m(\u001b[0m\u001b[0mline\u001b[0m\u001b[1;33m)\u001b[0m\u001b[1;33m\u001b[0m\u001b[0m\n\u001b[0;32m   1375\u001b[0m \u001b[1;33m\u001b[0m\u001b[0m\n",
      "\u001b[1;32m~\\Anaconda3\\lib\\site-packages\\matplotlib\\axes\\_base.py\u001b[0m in \u001b[0;36madd_line\u001b[1;34m(self, line)\u001b[0m\n\u001b[0;32m   1777\u001b[0m             \u001b[0mline\u001b[0m\u001b[1;33m.\u001b[0m\u001b[0mset_clip_path\u001b[0m\u001b[1;33m(\u001b[0m\u001b[0mself\u001b[0m\u001b[1;33m.\u001b[0m\u001b[0mpatch\u001b[0m\u001b[1;33m)\u001b[0m\u001b[1;33m\u001b[0m\u001b[0m\n\u001b[0;32m   1778\u001b[0m \u001b[1;33m\u001b[0m\u001b[0m\n\u001b[1;32m-> 1779\u001b[1;33m         \u001b[0mself\u001b[0m\u001b[1;33m.\u001b[0m\u001b[0m_update_line_limits\u001b[0m\u001b[1;33m(\u001b[0m\u001b[0mline\u001b[0m\u001b[1;33m)\u001b[0m\u001b[1;33m\u001b[0m\u001b[0m\n\u001b[0m\u001b[0;32m   1780\u001b[0m         \u001b[1;32mif\u001b[0m \u001b[1;32mnot\u001b[0m \u001b[0mline\u001b[0m\u001b[1;33m.\u001b[0m\u001b[0mget_label\u001b[0m\u001b[1;33m(\u001b[0m\u001b[1;33m)\u001b[0m\u001b[1;33m:\u001b[0m\u001b[1;33m\u001b[0m\u001b[0m\n\u001b[0;32m   1781\u001b[0m             \u001b[0mline\u001b[0m\u001b[1;33m.\u001b[0m\u001b[0mset_label\u001b[0m\u001b[1;33m(\u001b[0m\u001b[1;34m'_line%d'\u001b[0m \u001b[1;33m%\u001b[0m \u001b[0mlen\u001b[0m\u001b[1;33m(\u001b[0m\u001b[0mself\u001b[0m\u001b[1;33m.\u001b[0m\u001b[0mlines\u001b[0m\u001b[1;33m)\u001b[0m\u001b[1;33m)\u001b[0m\u001b[1;33m\u001b[0m\u001b[0m\n",
      "\u001b[1;32m~\\Anaconda3\\lib\\site-packages\\matplotlib\\axes\\_base.py\u001b[0m in \u001b[0;36m_update_line_limits\u001b[1;34m(self, line)\u001b[0m\n\u001b[0;32m   1799\u001b[0m         \u001b[0mFigures\u001b[0m \u001b[0mout\u001b[0m \u001b[0mthe\u001b[0m \u001b[0mdata\u001b[0m \u001b[0mlimit\u001b[0m \u001b[0mof\u001b[0m \u001b[0mthe\u001b[0m \u001b[0mgiven\u001b[0m \u001b[0mline\u001b[0m\u001b[1;33m,\u001b[0m \u001b[0mupdating\u001b[0m \u001b[0mself\u001b[0m\u001b[1;33m.\u001b[0m\u001b[0mdataLim\u001b[0m\u001b[1;33m.\u001b[0m\u001b[1;33m\u001b[0m\u001b[0m\n\u001b[0;32m   1800\u001b[0m         \"\"\"\n\u001b[1;32m-> 1801\u001b[1;33m         \u001b[0mpath\u001b[0m \u001b[1;33m=\u001b[0m \u001b[0mline\u001b[0m\u001b[1;33m.\u001b[0m\u001b[0mget_path\u001b[0m\u001b[1;33m(\u001b[0m\u001b[1;33m)\u001b[0m\u001b[1;33m\u001b[0m\u001b[0m\n\u001b[0m\u001b[0;32m   1802\u001b[0m         \u001b[1;32mif\u001b[0m \u001b[0mpath\u001b[0m\u001b[1;33m.\u001b[0m\u001b[0mvertices\u001b[0m\u001b[1;33m.\u001b[0m\u001b[0msize\u001b[0m \u001b[1;33m==\u001b[0m \u001b[1;36m0\u001b[0m\u001b[1;33m:\u001b[0m\u001b[1;33m\u001b[0m\u001b[0m\n\u001b[0;32m   1803\u001b[0m             \u001b[1;32mreturn\u001b[0m\u001b[1;33m\u001b[0m\u001b[0m\n",
      "\u001b[1;32m~\\Anaconda3\\lib\\site-packages\\matplotlib\\lines.py\u001b[0m in \u001b[0;36mget_path\u001b[1;34m(self)\u001b[0m\n\u001b[0;32m    955\u001b[0m         \"\"\"\n\u001b[0;32m    956\u001b[0m         \u001b[1;32mif\u001b[0m \u001b[0mself\u001b[0m\u001b[1;33m.\u001b[0m\u001b[0m_invalidy\u001b[0m \u001b[1;32mor\u001b[0m \u001b[0mself\u001b[0m\u001b[1;33m.\u001b[0m\u001b[0m_invalidx\u001b[0m\u001b[1;33m:\u001b[0m\u001b[1;33m\u001b[0m\u001b[0m\n\u001b[1;32m--> 957\u001b[1;33m             \u001b[0mself\u001b[0m\u001b[1;33m.\u001b[0m\u001b[0mrecache\u001b[0m\u001b[1;33m(\u001b[0m\u001b[1;33m)\u001b[0m\u001b[1;33m\u001b[0m\u001b[0m\n\u001b[0m\u001b[0;32m    958\u001b[0m         \u001b[1;32mreturn\u001b[0m \u001b[0mself\u001b[0m\u001b[1;33m.\u001b[0m\u001b[0m_path\u001b[0m\u001b[1;33m\u001b[0m\u001b[0m\n\u001b[0;32m    959\u001b[0m \u001b[1;33m\u001b[0m\u001b[0m\n",
      "\u001b[1;32m~\\Anaconda3\\lib\\site-packages\\matplotlib\\lines.py\u001b[0m in \u001b[0;36mrecache\u001b[1;34m(self, always)\u001b[0m\n\u001b[0;32m    661\u001b[0m         \u001b[1;32mif\u001b[0m \u001b[0malways\u001b[0m \u001b[1;32mor\u001b[0m \u001b[0mself\u001b[0m\u001b[1;33m.\u001b[0m\u001b[0m_invalidy\u001b[0m\u001b[1;33m:\u001b[0m\u001b[1;33m\u001b[0m\u001b[0m\n\u001b[0;32m    662\u001b[0m             \u001b[0myconv\u001b[0m \u001b[1;33m=\u001b[0m \u001b[0mself\u001b[0m\u001b[1;33m.\u001b[0m\u001b[0mconvert_yunits\u001b[0m\u001b[1;33m(\u001b[0m\u001b[0mself\u001b[0m\u001b[1;33m.\u001b[0m\u001b[0m_yorig\u001b[0m\u001b[1;33m)\u001b[0m\u001b[1;33m\u001b[0m\u001b[0m\n\u001b[1;32m--> 663\u001b[1;33m             \u001b[0my\u001b[0m \u001b[1;33m=\u001b[0m \u001b[0m_to_unmasked_float_array\u001b[0m\u001b[1;33m(\u001b[0m\u001b[0myconv\u001b[0m\u001b[1;33m)\u001b[0m\u001b[1;33m.\u001b[0m\u001b[0mravel\u001b[0m\u001b[1;33m(\u001b[0m\u001b[1;33m)\u001b[0m\u001b[1;33m\u001b[0m\u001b[0m\n\u001b[0m\u001b[0;32m    664\u001b[0m         \u001b[1;32melse\u001b[0m\u001b[1;33m:\u001b[0m\u001b[1;33m\u001b[0m\u001b[0m\n\u001b[0;32m    665\u001b[0m             \u001b[0my\u001b[0m \u001b[1;33m=\u001b[0m \u001b[0mself\u001b[0m\u001b[1;33m.\u001b[0m\u001b[0m_y\u001b[0m\u001b[1;33m\u001b[0m\u001b[0m\n",
      "\u001b[1;32m~\\Anaconda3\\lib\\site-packages\\matplotlib\\cbook\\__init__.py\u001b[0m in \u001b[0;36m_to_unmasked_float_array\u001b[1;34m(x)\u001b[0m\n\u001b[0;32m   2005\u001b[0m         \u001b[1;32mreturn\u001b[0m \u001b[0mnp\u001b[0m\u001b[1;33m.\u001b[0m\u001b[0mma\u001b[0m\u001b[1;33m.\u001b[0m\u001b[0masarray\u001b[0m\u001b[1;33m(\u001b[0m\u001b[0mx\u001b[0m\u001b[1;33m,\u001b[0m \u001b[0mfloat\u001b[0m\u001b[1;33m)\u001b[0m\u001b[1;33m.\u001b[0m\u001b[0mfilled\u001b[0m\u001b[1;33m(\u001b[0m\u001b[0mnp\u001b[0m\u001b[1;33m.\u001b[0m\u001b[0mnan\u001b[0m\u001b[1;33m)\u001b[0m\u001b[1;33m\u001b[0m\u001b[0m\n\u001b[0;32m   2006\u001b[0m     \u001b[1;32melse\u001b[0m\u001b[1;33m:\u001b[0m\u001b[1;33m\u001b[0m\u001b[0m\n\u001b[1;32m-> 2007\u001b[1;33m         \u001b[1;32mreturn\u001b[0m \u001b[0mnp\u001b[0m\u001b[1;33m.\u001b[0m\u001b[0masarray\u001b[0m\u001b[1;33m(\u001b[0m\u001b[0mx\u001b[0m\u001b[1;33m,\u001b[0m \u001b[0mfloat\u001b[0m\u001b[1;33m)\u001b[0m\u001b[1;33m\u001b[0m\u001b[0m\n\u001b[0m\u001b[0;32m   2008\u001b[0m \u001b[1;33m\u001b[0m\u001b[0m\n\u001b[0;32m   2009\u001b[0m \u001b[1;33m\u001b[0m\u001b[0m\n",
      "\u001b[1;32m~\\Anaconda3\\lib\\site-packages\\numpy\\core\\numeric.py\u001b[0m in \u001b[0;36masarray\u001b[1;34m(a, dtype, order)\u001b[0m\n\u001b[0;32m    490\u001b[0m \u001b[1;33m\u001b[0m\u001b[0m\n\u001b[0;32m    491\u001b[0m     \"\"\"\n\u001b[1;32m--> 492\u001b[1;33m     \u001b[1;32mreturn\u001b[0m \u001b[0marray\u001b[0m\u001b[1;33m(\u001b[0m\u001b[0ma\u001b[0m\u001b[1;33m,\u001b[0m \u001b[0mdtype\u001b[0m\u001b[1;33m,\u001b[0m \u001b[0mcopy\u001b[0m\u001b[1;33m=\u001b[0m\u001b[1;32mFalse\u001b[0m\u001b[1;33m,\u001b[0m \u001b[0morder\u001b[0m\u001b[1;33m=\u001b[0m\u001b[0morder\u001b[0m\u001b[1;33m)\u001b[0m\u001b[1;33m\u001b[0m\u001b[0m\n\u001b[0m\u001b[0;32m    493\u001b[0m \u001b[1;33m\u001b[0m\u001b[0m\n\u001b[0;32m    494\u001b[0m \u001b[1;33m\u001b[0m\u001b[0m\n",
      "\u001b[1;31mValueError\u001b[0m: setting an array element with a sequence."
     ]
    },
    {
     "data": {
      "image/png": "[encoded data removed]",
      "text/plain": [
       "<matplotlib.figure.Figure at 0x1a25a371518>"
      ]
     },
     "metadata": {},
     "output_type": "display_data"
    }
   ],
   "source": [
    "#your turn\n",
    "# Initialize a new PCA model with a default number of components.\n",
    "import sklearn.decomposition\n",
    "from sklearn.decomposition import PCA\n",
    "\n",
    "\n",
    "#your turn\n",
    "ks = range(2,11)\n",
    "inertias = []\n",
    "\n",
    "for k in ks:\n",
    "    # Create a KMeans instance with k clusters: model\n",
    "    model = PCA(n_components = k)\n",
    "    \n",
    "    # Fit model to samples\n",
    "    model.fit(matrix[x_cols])\n",
    "    \n",
    "    # Append the inertia to the list of inertias\n",
    "    inertias.append(model.explained_variance_)\n",
    "    \n",
    "# Plot ks vs inertias\n",
    "plt.plot(ks, inertias, '-o')\n",
    "plt.xlabel('number of clusters, k')\n",
    "plt.ylabel('explained variance')\n",
    "plt.xticks(ks)\n",
    "plt.show()"
   ]
  },
  {
   "cell_type": "code",
   "execution_count": null,
   "metadata": {},
   "outputs": [],
   "source": []
  },
  {
   "cell_type": "markdown",
   "metadata": {},
   "source": [
    "## Other Clustering Algorithms\n",
    "\n",
    "k-means is only one of a ton of clustering algorithms. Below is a brief description of several clustering algorithms, and the table provides references to the other clustering algorithms in scikit-learn. \n",
    "\n",
    "* **Affinity Propagation** does not require the number of clusters $K$ to be known in advance! AP uses a \"message passing\" paradigm to cluster points based on their similarity. \n",
    "\n",
    "* **Spectral Clustering** uses the eigenvalues of a similarity matrix to reduce the dimensionality of the data before clustering in a lower dimensional space. This is tangentially similar to what we did to visualize k-means clusters using PCA. The number of clusters must be known a priori.\n",
    "\n",
    "* **Ward's Method** applies to hierarchical clustering. Hierarchical clustering algorithms take a set of data and successively divide the observations into more and more clusters at each layer of the hierarchy. Ward's method is used to determine when two clusters in the hierarchy should be combined into one. It is basically an extension of hierarchical clustering. Hierarchical clustering is *divisive*, that is, all observations are part of the same cluster at first, and at each successive iteration, the clusters are made smaller and smaller. With hierarchical clustering, a hierarchy is constructed, and there is not really the concept of \"number of clusters.\" The number of clusters simply determines how low or how high in the hierarchy we reference and can be determined empirically or by looking at the [dendogram](https://docs.scipy.org/doc/scipy-0.18.1/reference/generated/scipy.cluster.hierarchy.dendrogram.html).\n",
    "\n",
    "* **Agglomerative Clustering** is similar to hierarchical clustering but but is not divisive, it is *agglomerative*. That is, every observation is placed into its own cluster and at each iteration or level or the hierarchy, observations are merged into fewer and fewer clusters until convergence. Similar to hierarchical clustering, the constructed hierarchy contains all possible numbers of clusters and it is up to the analyst to pick the number by reviewing statistics or the dendogram.\n",
    "\n",
    "* **DBSCAN** is based on point density rather than distance. It groups together points with many nearby neighbors. DBSCAN is one of the most cited algorithms in the literature. It does not require knowing the number of clusters a priori, but does require specifying the neighborhood size."
   ]
  },
  {
   "cell_type": "markdown",
   "metadata": {},
   "source": [
    "### Clustering Algorithms in Scikit-learn\n",
    "<table border=\"1\">\n",
    "<colgroup>\n",
    "<col width=\"15%\" />\n",
    "<col width=\"16%\" />\n",
    "<col width=\"20%\" />\n",
    "<col width=\"27%\" />\n",
    "<col width=\"22%\" />\n",
    "</colgroup>\n",
    "<thead valign=\"bottom\">\n",
    "<tr><th>Method name</th>\n",
    "<th>Parameters</th>\n",
    "<th>Scalability</th>\n",
    "<th>Use Case</th>\n",
    "<th>Geometry (metric used)</th>\n",
    "</tr>\n",
    "</thead>\n",
    "<tbody valign=\"top\">\n",
    "<tr><td>K-Means</span></a></td>\n",
    "<td>number of clusters</td>\n",
    "<td>Very large<span class=\"pre\">n_samples</span>, medium <span class=\"pre\">n_clusters</span> with\n",
    "MiniBatch code</td>\n",
    "<td>General-purpose, even cluster size, flat geometry, not too many clusters</td>\n",
    "<td>Distances between points</td>\n",
    "</tr>\n",
    "<tr><td>Affinity propagation</td>\n",
    "<td>damping, sample preference</td>\n",
    "<td>Not scalable with n_samples</td>\n",
    "<td>Many clusters, uneven cluster size, non-flat geometry</td>\n",
    "<td>Graph distance (e.g. nearest-neighbor graph)</td>\n",
    "</tr>\n",
    "<tr><td>Mean-shift</td>\n",
    "<td>bandwidth</td>\n",
    "<td>Not scalable with <span class=\"pre\">n_samples</span></td>\n",
    "<td>Many clusters, uneven cluster size, non-flat geometry</td>\n",
    "<td>Distances between points</td>\n",
    "</tr>\n",
    "<tr><td>Spectral clustering</td>\n",
    "<td>number of clusters</td>\n",
    "<td>Medium <span class=\"pre\">n_samples</span>, small <span class=\"pre\">n_clusters</span></td>\n",
    "<td>Few clusters, even cluster size, non-flat geometry</td>\n",
    "<td>Graph distance (e.g. nearest-neighbor graph)</td>\n",
    "</tr>\n",
    "<tr><td>Ward hierarchical clustering</td>\n",
    "<td>number of clusters</td>\n",
    "<td>Large <span class=\"pre\">n_samples</span> and <span class=\"pre\">n_clusters</span></td>\n",
    "<td>Many clusters, possibly connectivity constraints</td>\n",
    "<td>Distances between points</td>\n",
    "</tr>\n",
    "<tr><td>Agglomerative clustering</td>\n",
    "<td>number of clusters, linkage type, distance</td>\n",
    "<td>Large <span class=\"pre\">n_samples</span> and <span class=\"pre\">n_clusters</span></td>\n",
    "<td>Many clusters, possibly connectivity constraints, non Euclidean\n",
    "distances</td>\n",
    "<td>Any pairwise distance</td>\n",
    "</tr>\n",
    "<tr><td>DBSCAN</td>\n",
    "<td>neighborhood size</td>\n",
    "<td>Very large <span class=\"pre\">n_samples</span>, medium <span class=\"pre\">n_clusters</span></td>\n",
    "<td>Non-flat geometry, uneven cluster sizes</td>\n",
    "<td>Distances between nearest points</td>\n",
    "</tr>\n",
    "<tr><td>Gaussian mixtures</td>\n",
    "<td>many</td>\n",
    "<td>Not scalable</td>\n",
    "<td>Flat geometry, good for density estimation</td>\n",
    "<td>Mahalanobis distances to  centers</td>\n",
    "</tr>\n",
    "<tr><td>Birch</td>\n",
    "<td>branching factor, threshold, optional global clusterer.</td>\n",
    "<td>Large <span class=\"pre\">n_clusters</span> and <span class=\"pre\">n_samples</span></td>\n",
    "<td>Large dataset, outlier removal, data reduction.</td>\n",
    "<td>Euclidean distance between points</td>\n",
    "</tr>\n",
    "</tbody>\n",
    "</table>\n",
    "Source: http://scikit-learn.org/stable/modules/clustering.html"
   ]
  },
  {
   "cell_type": "markdown",
   "metadata": {},
   "source": [
    "<div class=\"span5 alert alert-info\">\n",
    "<h3>Exercise Set VI</h3>\n",
    "\n",
    "<p><b>Exercise:</b> Try clustering using the following algorithms. </p>\n",
    "<ol>\n",
    "<li>Affinity propagation\n",
    "<li>Spectral clustering\n",
    "<li>Agglomerative clustering\n",
    "<li>DBSCAN\n",
    "</ol>\n",
    "<p>How do their results compare? Which performs the best? Tell a story why you think it performs the best.</p>\n",
    "</div>\n"
   ]
  },
  {
   "cell_type": "code",
   "execution_count": 136,
   "metadata": {},
   "outputs": [
    {
     "data": {
      "text/plain": [
       "array(['customer_name', 1, 2, 3, 4, 5, 6, 7, 8, 9, 10, 11, 12, 13, 14, 15,\n",
       "       16, 17, 18, 19, 20, 21, 22, 23, 24, 25, 26, 27, 28, 29, 30, 31, 32],\n",
       "      dtype=object)"
      ]
     },
     "execution_count": 136,
     "metadata": {},
     "output_type": "execute_result"
    }
   ],
   "source": [
    "matrix.columns.values"
   ]
  },
  {
   "cell_type": "code",
   "execution_count": 139,
   "metadata": {},
   "outputs": [],
   "source": [
    "matrix = matrix[['customer_name', 1, 2, 3, 4, 5, 6, 7, 8, 9, 10, 11, 12, 13, 14, 15,\n",
    "       16, 17, 18, 19, 20, 21, 22, 23, 24, 25, 26, 27, 28, 29, 30, 31, 32]]"
   ]
  },
  {
   "cell_type": "code",
   "execution_count": 138,
   "metadata": {},
   "outputs": [
    {
     "data": {
      "text/plain": [
       "1    26\n",
       "3    16\n",
       "5    14\n",
       "4    12\n",
       "0    12\n",
       "6    10\n",
       "2    10\n",
       "Name: cluster1, dtype: int64"
      ]
     },
     "execution_count": 138,
     "metadata": {},
     "output_type": "execute_result"
    }
   ],
   "source": [
    "# Your turn\n",
    "# Affinity Propagation\n",
    "from sklearn.cluster import AffinityPropagation\n",
    "\n",
    "matrix['cluster1'] = AffinityPropagation().fit_predict(matrix[matrix.columns[2:]])\n",
    "matrix.cluster1.value_counts()\n",
    "#It looks like this algorithm came up with 7 different clusters of similar size."
   ]
  },
  {
   "cell_type": "code",
   "execution_count": null,
   "metadata": {},
   "outputs": [],
   "source": []
  },
  {
   "cell_type": "code",
   "execution_count": 124,
   "metadata": {},
   "outputs": [
    {
     "data": {
      "text/plain": [
       "SpectralClustering(affinity='rbf', assign_labels='discretize', coef0=1,\\n          degree=3, eigen_solver=None, eigen_tol=0.0, gamma=1.0,\\n          kernel_params=None, n_clusters=3, n_init=10, n_jobs=1,\\n          n_neighbors=10, random_state=0)    100\n",
       "Name: cluster2, dtype: int64"
      ]
     },
     "execution_count": 124,
     "metadata": {},
     "output_type": "execute_result"
    }
   ],
   "source": [
    "#Next, we will look at spectral clustering\n",
    "#We will use 3 clusters since this algorithm requires it\n",
    "from sklearn.cluster import SpectralClustering\n",
    "matrix['cluster2'] = SpectralClustering(3, assign_labels='discretize', random_state=0).fit(matrix[matrix.columns[2:]])\n",
    "matrix.cluster2.value_counts()"
   ]
  },
  {
   "cell_type": "code",
   "execution_count": 80,
   "metadata": {},
   "outputs": [
    {
     "ename": "ValueError",
     "evalue": "array must be 2-dimensional and square. shape = (100, 2)",
     "output_type": "error",
     "traceback": [
      "\u001b[1;31m---------------------------------------------------------------------------\u001b[0m",
      "\u001b[1;31mValueError\u001b[0m                                Traceback (most recent call last)",
      "\u001b[1;32m<ipython-input-80-54b3becce6e0>\u001b[0m in \u001b[0;36m<module>\u001b[1;34m()\u001b[0m\n\u001b[0;32m      1\u001b[0m \u001b[0mmatrix1\u001b[0m \u001b[1;33m=\u001b[0m \u001b[0mmatrix\u001b[0m\u001b[1;33m[\u001b[0m\u001b[1;33m[\u001b[0m\u001b[1;34m'x'\u001b[0m\u001b[1;33m,\u001b[0m \u001b[1;34m'y'\u001b[0m\u001b[1;33m]\u001b[0m\u001b[1;33m]\u001b[0m\u001b[1;33m\u001b[0m\u001b[0m\n\u001b[1;32m----> 2\u001b[1;33m \u001b[0mmatrix\u001b[0m\u001b[1;33m[\u001b[0m\u001b[1;34m'cluster2'\u001b[0m\u001b[1;33m]\u001b[0m \u001b[1;33m=\u001b[0m \u001b[0mSpectralClustering\u001b[0m\u001b[1;33m(\u001b[0m\u001b[0mn_clusters\u001b[0m\u001b[1;33m=\u001b[0m\u001b[1;36m3\u001b[0m\u001b[1;33m,\u001b[0m \u001b[0maffinity\u001b[0m\u001b[1;33m=\u001b[0m\u001b[1;34m'precomputed'\u001b[0m\u001b[1;33m,\u001b[0m \u001b[0massign_labels\u001b[0m\u001b[1;33m=\u001b[0m\u001b[1;34m'discretize'\u001b[0m\u001b[1;33m)\u001b[0m\u001b[1;33m.\u001b[0m\u001b[0mfit\u001b[0m\u001b[1;33m(\u001b[0m\u001b[0mmatrix\u001b[0m\u001b[1;33m[\u001b[0m\u001b[1;33m[\u001b[0m\u001b[1;34m'x'\u001b[0m\u001b[1;33m,\u001b[0m \u001b[1;34m'y'\u001b[0m\u001b[1;33m]\u001b[0m\u001b[1;33m]\u001b[0m\u001b[1;33m)\u001b[0m\u001b[1;33m\u001b[0m\u001b[0m\n\u001b[0m\u001b[0;32m      3\u001b[0m \u001b[0mmatrix\u001b[0m\u001b[1;33m.\u001b[0m\u001b[0mcluster2\u001b[0m\u001b[1;33m.\u001b[0m\u001b[0mvalue_counts\u001b[0m\u001b[1;33m(\u001b[0m\u001b[1;33m)\u001b[0m\u001b[1;33m\u001b[0m\u001b[0m\n",
      "\u001b[1;32m~\\Anaconda3\\lib\\site-packages\\sklearn\\cluster\\spectral.py\u001b[0m in \u001b[0;36mfit\u001b[1;34m(self, X, y)\u001b[0m\n\u001b[0;32m    470\u001b[0m                                            \u001b[0mn_init\u001b[0m\u001b[1;33m=\u001b[0m\u001b[0mself\u001b[0m\u001b[1;33m.\u001b[0m\u001b[0mn_init\u001b[0m\u001b[1;33m,\u001b[0m\u001b[1;33m\u001b[0m\u001b[0m\n\u001b[0;32m    471\u001b[0m                                            \u001b[0meigen_tol\u001b[0m\u001b[1;33m=\u001b[0m\u001b[0mself\u001b[0m\u001b[1;33m.\u001b[0m\u001b[0meigen_tol\u001b[0m\u001b[1;33m,\u001b[0m\u001b[1;33m\u001b[0m\u001b[0m\n\u001b[1;32m--> 472\u001b[1;33m                                            assign_labels=self.assign_labels)\n\u001b[0m\u001b[0;32m    473\u001b[0m         \u001b[1;32mreturn\u001b[0m \u001b[0mself\u001b[0m\u001b[1;33m\u001b[0m\u001b[0m\n\u001b[0;32m    474\u001b[0m \u001b[1;33m\u001b[0m\u001b[0m\n",
      "\u001b[1;32m~\\Anaconda3\\lib\\site-packages\\sklearn\\cluster\\spectral.py\u001b[0m in \u001b[0;36mspectral_clustering\u001b[1;34m(affinity, n_clusters, n_components, eigen_solver, random_state, n_init, eigen_tol, assign_labels)\u001b[0m\n\u001b[0;32m    260\u001b[0m                               \u001b[0meigen_solver\u001b[0m\u001b[1;33m=\u001b[0m\u001b[0meigen_solver\u001b[0m\u001b[1;33m,\u001b[0m\u001b[1;33m\u001b[0m\u001b[0m\n\u001b[0;32m    261\u001b[0m                               \u001b[0mrandom_state\u001b[0m\u001b[1;33m=\u001b[0m\u001b[0mrandom_state\u001b[0m\u001b[1;33m,\u001b[0m\u001b[1;33m\u001b[0m\u001b[0m\n\u001b[1;32m--> 262\u001b[1;33m                               eigen_tol=eigen_tol, drop_first=False)\n\u001b[0m\u001b[0;32m    263\u001b[0m \u001b[1;33m\u001b[0m\u001b[0m\n\u001b[0;32m    264\u001b[0m     \u001b[1;32mif\u001b[0m \u001b[0massign_labels\u001b[0m \u001b[1;33m==\u001b[0m \u001b[1;34m'kmeans'\u001b[0m\u001b[1;33m:\u001b[0m\u001b[1;33m\u001b[0m\u001b[0m\n",
      "\u001b[1;32m~\\Anaconda3\\lib\\site-packages\\sklearn\\manifold\\spectral_embedding_.py\u001b[0m in \u001b[0;36mspectral_embedding\u001b[1;34m(adjacency, n_components, eigen_solver, random_state, eigen_tol, norm_laplacian, drop_first)\u001b[0m\n\u001b[0;32m    208\u001b[0m       \u001b[0mhttp\u001b[0m\u001b[1;33m:\u001b[0m\u001b[1;33m//\u001b[0m\u001b[0mdx\u001b[0m\u001b[1;33m.\u001b[0m\u001b[0mdoi\u001b[0m\u001b[1;33m.\u001b[0m\u001b[0morg\u001b[0m\u001b[1;33m/\u001b[0m\u001b[1;36m10.1137\u001b[0m\u001b[1;33m%\u001b[0m\u001b[1;36m2\u001b[0m\u001b[0mFS1064827500366124\u001b[0m\u001b[1;33m\u001b[0m\u001b[0m\n\u001b[0;32m    209\u001b[0m     \"\"\"\n\u001b[1;32m--> 210\u001b[1;33m     \u001b[0madjacency\u001b[0m \u001b[1;33m=\u001b[0m \u001b[0mcheck_symmetric\u001b[0m\u001b[1;33m(\u001b[0m\u001b[0madjacency\u001b[0m\u001b[1;33m)\u001b[0m\u001b[1;33m\u001b[0m\u001b[0m\n\u001b[0m\u001b[0;32m    211\u001b[0m \u001b[1;33m\u001b[0m\u001b[0m\n\u001b[0;32m    212\u001b[0m     \u001b[1;32mtry\u001b[0m\u001b[1;33m:\u001b[0m\u001b[1;33m\u001b[0m\u001b[0m\n",
      "\u001b[1;32m~\\Anaconda3\\lib\\site-packages\\sklearn\\utils\\validation.py\u001b[0m in \u001b[0;36mcheck_symmetric\u001b[1;34m(array, tol, raise_warning, raise_exception)\u001b[0m\n\u001b[0;32m    692\u001b[0m     \u001b[1;32mif\u001b[0m \u001b[1;33m(\u001b[0m\u001b[0marray\u001b[0m\u001b[1;33m.\u001b[0m\u001b[0mndim\u001b[0m \u001b[1;33m!=\u001b[0m \u001b[1;36m2\u001b[0m\u001b[1;33m)\u001b[0m \u001b[1;32mor\u001b[0m \u001b[1;33m(\u001b[0m\u001b[0marray\u001b[0m\u001b[1;33m.\u001b[0m\u001b[0mshape\u001b[0m\u001b[1;33m[\u001b[0m\u001b[1;36m0\u001b[0m\u001b[1;33m]\u001b[0m \u001b[1;33m!=\u001b[0m \u001b[0marray\u001b[0m\u001b[1;33m.\u001b[0m\u001b[0mshape\u001b[0m\u001b[1;33m[\u001b[0m\u001b[1;36m1\u001b[0m\u001b[1;33m]\u001b[0m\u001b[1;33m)\u001b[0m\u001b[1;33m:\u001b[0m\u001b[1;33m\u001b[0m\u001b[0m\n\u001b[0;32m    693\u001b[0m         raise ValueError(\"array must be 2-dimensional and square. \"\n\u001b[1;32m--> 694\u001b[1;33m                          \"shape = {0}\".format(array.shape))\n\u001b[0m\u001b[0;32m    695\u001b[0m \u001b[1;33m\u001b[0m\u001b[0m\n\u001b[0;32m    696\u001b[0m     \u001b[1;32mif\u001b[0m \u001b[0msp\u001b[0m\u001b[1;33m.\u001b[0m\u001b[0missparse\u001b[0m\u001b[1;33m(\u001b[0m\u001b[0marray\u001b[0m\u001b[1;33m)\u001b[0m\u001b[1;33m:\u001b[0m\u001b[1;33m\u001b[0m\u001b[0m\n",
      "\u001b[1;31mValueError\u001b[0m: array must be 2-dimensional and square. shape = (100, 2)"
     ]
    }
   ],
   "source": [
    "matrix1 = matrix[['x', 'y']]\n",
    "matrix['cluster2'] = SpectralClustering(n_clusters=3, affinity='precomputed', assign_labels='discretize').fit(matrix[['x', 'y']])\n",
    "matrix.cluster2.value_counts()"
   ]
  },
  {
   "cell_type": "code",
   "execution_count": 68,
   "metadata": {},
   "outputs": [
    {
     "data": {
      "text/plain": [
       "0     SpectralClustering(affinity='rbf', assign_labe...\n",
       "1     SpectralClustering(affinity='rbf', assign_labe...\n",
       "2     SpectralClustering(affinity='rbf', assign_labe...\n",
       "3     SpectralClustering(affinity='rbf', assign_labe...\n",
       "4     SpectralClustering(affinity='rbf', assign_labe...\n",
       "5     SpectralClustering(affinity='rbf', assign_labe...\n",
       "6     SpectralClustering(affinity='rbf', assign_labe...\n",
       "7     SpectralClustering(affinity='rbf', assign_labe...\n",
       "8     SpectralClustering(affinity='rbf', assign_labe...\n",
       "9     SpectralClustering(affinity='rbf', assign_labe...\n",
       "10    SpectralClustering(affinity='rbf', assign_labe...\n",
       "11    SpectralClustering(affinity='rbf', assign_labe...\n",
       "12    SpectralClustering(affinity='rbf', assign_labe...\n",
       "13    SpectralClustering(affinity='rbf', assign_labe...\n",
       "14    SpectralClustering(affinity='rbf', assign_labe...\n",
       "15    SpectralClustering(affinity='rbf', assign_labe...\n",
       "16    SpectralClustering(affinity='rbf', assign_labe...\n",
       "17    SpectralClustering(affinity='rbf', assign_labe...\n",
       "18    SpectralClustering(affinity='rbf', assign_labe...\n",
       "19    SpectralClustering(affinity='rbf', assign_labe...\n",
       "20    SpectralClustering(affinity='rbf', assign_labe...\n",
       "21    SpectralClustering(affinity='rbf', assign_labe...\n",
       "22    SpectralClustering(affinity='rbf', assign_labe...\n",
       "23    SpectralClustering(affinity='rbf', assign_labe...\n",
       "24    SpectralClustering(affinity='rbf', assign_labe...\n",
       "25    SpectralClustering(affinity='rbf', assign_labe...\n",
       "26    SpectralClustering(affinity='rbf', assign_labe...\n",
       "27    SpectralClustering(affinity='rbf', assign_labe...\n",
       "28    SpectralClustering(affinity='rbf', assign_labe...\n",
       "29    SpectralClustering(affinity='rbf', assign_labe...\n",
       "                            ...                        \n",
       "70    SpectralClustering(affinity='rbf', assign_labe...\n",
       "71    SpectralClustering(affinity='rbf', assign_labe...\n",
       "72    SpectralClustering(affinity='rbf', assign_labe...\n",
       "73    SpectralClustering(affinity='rbf', assign_labe...\n",
       "74    SpectralClustering(affinity='rbf', assign_labe...\n",
       "75    SpectralClustering(affinity='rbf', assign_labe...\n",
       "76    SpectralClustering(affinity='rbf', assign_labe...\n",
       "77    SpectralClustering(affinity='rbf', assign_labe...\n",
       "78    SpectralClustering(affinity='rbf', assign_labe...\n",
       "79    SpectralClustering(affinity='rbf', assign_labe...\n",
       "80    SpectralClustering(affinity='rbf', assign_labe...\n",
       "81    SpectralClustering(affinity='rbf', assign_labe...\n",
       "82    SpectralClustering(affinity='rbf', assign_labe...\n",
       "83    SpectralClustering(affinity='rbf', assign_labe...\n",
       "84    SpectralClustering(affinity='rbf', assign_labe...\n",
       "85    SpectralClustering(affinity='rbf', assign_labe...\n",
       "86    SpectralClustering(affinity='rbf', assign_labe...\n",
       "87    SpectralClustering(affinity='rbf', assign_labe...\n",
       "88    SpectralClustering(affinity='rbf', assign_labe...\n",
       "89    SpectralClustering(affinity='rbf', assign_labe...\n",
       "90    SpectralClustering(affinity='rbf', assign_labe...\n",
       "91    SpectralClustering(affinity='rbf', assign_labe...\n",
       "92    SpectralClustering(affinity='rbf', assign_labe...\n",
       "93    SpectralClustering(affinity='rbf', assign_labe...\n",
       "94    SpectralClustering(affinity='rbf', assign_labe...\n",
       "95    SpectralClustering(affinity='rbf', assign_labe...\n",
       "96    SpectralClustering(affinity='rbf', assign_labe...\n",
       "97    SpectralClustering(affinity='rbf', assign_labe...\n",
       "98    SpectralClustering(affinity='rbf', assign_labe...\n",
       "99    SpectralClustering(affinity='rbf', assign_labe...\n",
       "Name: cluster2, Length: 100, dtype: object"
      ]
     },
     "execution_count": 68,
     "metadata": {},
     "output_type": "execute_result"
    }
   ],
   "source": [
    "matrix['cluster2']"
   ]
  },
  {
   "cell_type": "code",
   "execution_count": 75,
   "metadata": {},
   "outputs": [
    {
     "data": {
      "text/plain": [
       "0    64\n",
       "1    36\n",
       "Name: cluster1, dtype: int64"
      ]
     },
     "execution_count": 75,
     "metadata": {},
     "output_type": "execute_result"
    }
   ],
   "source": [
    "#Next we will look at Agglomerative Clustering with the ward method for linkage\n",
    "from sklearn.cluster import AgglomerativeClustering\n",
    "matrix['cluster1'] = AgglomerativeClustering().fit_predict(matrix[matrix.columns[2:]])\n",
    "matrix.cluster1.value_counts()"
   ]
  },
  {
   "cell_type": "code",
   "execution_count": 86,
   "metadata": {},
   "outputs": [
    {
     "data": {
      "text/plain": [
       "0    97\n",
       "1     3\n",
       "Name: cluster1, dtype: int64"
      ]
     },
     "execution_count": 86,
     "metadata": {},
     "output_type": "execute_result"
    }
   ],
   "source": [
    "#Next, we will look at Agglomerative clustering with complete linkage\n",
    "matrix['cluster1'] = AgglomerativeClustering(linkage='complete').fit_predict(matrix[matrix.columns[2:]])\n",
    "matrix.cluster1.value_counts()"
   ]
  },
  {
   "cell_type": "code",
   "execution_count": 88,
   "metadata": {},
   "outputs": [
    {
     "data": {
      "text/plain": [
       "0    97\n",
       "1     3\n",
       "Name: cluster1, dtype: int64"
      ]
     },
     "execution_count": 88,
     "metadata": {},
     "output_type": "execute_result"
    }
   ],
   "source": [
    "#Next, we will look at agg clustering with average linkage\n",
    "matrix['cluster1'] = AgglomerativeClustering(linkage='average').fit_predict(matrix[matrix.columns[2:]])\n",
    "matrix.cluster1.value_counts()"
   ]
  },
  {
   "cell_type": "code",
   "execution_count": null,
   "metadata": {},
   "outputs": [],
   "source": []
  },
  {
   "cell_type": "code",
   "execution_count": 82,
   "metadata": {},
   "outputs": [
    {
     "data": {
      "text/plain": [
       "-1    100\n",
       "Name: cluster1, dtype: int64"
      ]
     },
     "execution_count": 82,
     "metadata": {},
     "output_type": "execute_result"
    }
   ],
   "source": [
    "#Finally, we will use DBscan to cluster the data\n",
    "from sklearn.cluster import DBSCAN\n",
    "\n",
    "matrix['cluster1'] = DBSCAN().fit_predict(matrix[matrix.columns[2:]])\n",
    "matrix.cluster1.value_counts()"
   ]
  },
  {
   "cell_type": "code",
   "execution_count": 102,
   "metadata": {},
   "outputs": [],
   "source": [
    "from sklearn.cluster import DBSCAN\n",
    "from sklearn import metrics\n",
    "X = matrix[x_cols]\n",
    "labels_true = len(np.array(range(1, 101)))"
   ]
  },
  {
   "cell_type": "code",
   "execution_count": 103,
   "metadata": {},
   "outputs": [
    {
     "name": "stdout",
     "output_type": "stream",
     "text": [
      "Estimated number of clusters: 0\n"
     ]
    },
    {
     "ename": "ValueError",
     "evalue": "labels_true must be 1D: shape is ()",
     "output_type": "error",
     "traceback": [
      "\u001b[1;31m---------------------------------------------------------------------------\u001b[0m",
      "\u001b[1;31mValueError\u001b[0m                                Traceback (most recent call last)",
      "\u001b[1;32m<ipython-input-103-f1fd218e83ee>\u001b[0m in \u001b[0;36m<module>\u001b[1;34m()\u001b[0m\n\u001b[0;32m      8\u001b[0m \u001b[1;33m\u001b[0m\u001b[0m\n\u001b[0;32m      9\u001b[0m \u001b[0mprint\u001b[0m\u001b[1;33m(\u001b[0m\u001b[1;34m'Estimated number of clusters: %d'\u001b[0m \u001b[1;33m%\u001b[0m \u001b[0mn_clusters_\u001b[0m\u001b[1;33m)\u001b[0m\u001b[1;33m\u001b[0m\u001b[0m\n\u001b[1;32m---> 10\u001b[1;33m \u001b[0mprint\u001b[0m\u001b[1;33m(\u001b[0m\u001b[1;34m\"Homogeneity: %0.3f\"\u001b[0m \u001b[1;33m%\u001b[0m \u001b[0mmetrics\u001b[0m\u001b[1;33m.\u001b[0m\u001b[0mhomogeneity_score\u001b[0m\u001b[1;33m(\u001b[0m\u001b[0mlabels_true\u001b[0m\u001b[1;33m,\u001b[0m \u001b[0mlabels\u001b[0m\u001b[1;33m)\u001b[0m\u001b[1;33m)\u001b[0m\u001b[1;33m\u001b[0m\u001b[0m\n\u001b[0m\u001b[0;32m     11\u001b[0m \u001b[0mprint\u001b[0m\u001b[1;33m(\u001b[0m\u001b[1;34m\"Completeness: %0.3f\"\u001b[0m \u001b[1;33m%\u001b[0m \u001b[0mmetrics\u001b[0m\u001b[1;33m.\u001b[0m\u001b[0mcompleteness_score\u001b[0m\u001b[1;33m(\u001b[0m\u001b[0mlabels_true\u001b[0m\u001b[1;33m,\u001b[0m \u001b[0mlabels\u001b[0m\u001b[1;33m)\u001b[0m\u001b[1;33m)\u001b[0m\u001b[1;33m\u001b[0m\u001b[0m\n\u001b[0;32m     12\u001b[0m \u001b[0mprint\u001b[0m\u001b[1;33m(\u001b[0m\u001b[1;34m\"V-measure: %0.3f\"\u001b[0m \u001b[1;33m%\u001b[0m \u001b[0mmetrics\u001b[0m\u001b[1;33m.\u001b[0m\u001b[0mv_measure_score\u001b[0m\u001b[1;33m(\u001b[0m\u001b[0mlabels_true\u001b[0m\u001b[1;33m,\u001b[0m \u001b[0mlabels\u001b[0m\u001b[1;33m)\u001b[0m\u001b[1;33m)\u001b[0m\u001b[1;33m\u001b[0m\u001b[0m\n",
      "\u001b[1;32m~\\Anaconda3\\lib\\site-packages\\sklearn\\metrics\\cluster\\supervised.py\u001b[0m in \u001b[0;36mhomogeneity_score\u001b[1;34m(labels_true, labels_pred)\u001b[0m\n\u001b[0;32m    360\u001b[0m \u001b[1;33m\u001b[0m\u001b[0m\n\u001b[0;32m    361\u001b[0m     \"\"\"\n\u001b[1;32m--> 362\u001b[1;33m     \u001b[1;32mreturn\u001b[0m \u001b[0mhomogeneity_completeness_v_measure\u001b[0m\u001b[1;33m(\u001b[0m\u001b[0mlabels_true\u001b[0m\u001b[1;33m,\u001b[0m \u001b[0mlabels_pred\u001b[0m\u001b[1;33m)\u001b[0m\u001b[1;33m[\u001b[0m\u001b[1;36m0\u001b[0m\u001b[1;33m]\u001b[0m\u001b[1;33m\u001b[0m\u001b[0m\n\u001b[0m\u001b[0;32m    363\u001b[0m \u001b[1;33m\u001b[0m\u001b[0m\n\u001b[0;32m    364\u001b[0m \u001b[1;33m\u001b[0m\u001b[0m\n",
      "\u001b[1;32m~\\Anaconda3\\lib\\site-packages\\sklearn\\metrics\\cluster\\supervised.py\u001b[0m in \u001b[0;36mhomogeneity_completeness_v_measure\u001b[1;34m(labels_true, labels_pred)\u001b[0m\n\u001b[0;32m    266\u001b[0m     \u001b[0mv_measure_score\u001b[0m\u001b[1;33m\u001b[0m\u001b[0m\n\u001b[0;32m    267\u001b[0m     \"\"\"\n\u001b[1;32m--> 268\u001b[1;33m     \u001b[0mlabels_true\u001b[0m\u001b[1;33m,\u001b[0m \u001b[0mlabels_pred\u001b[0m \u001b[1;33m=\u001b[0m \u001b[0mcheck_clusterings\u001b[0m\u001b[1;33m(\u001b[0m\u001b[0mlabels_true\u001b[0m\u001b[1;33m,\u001b[0m \u001b[0mlabels_pred\u001b[0m\u001b[1;33m)\u001b[0m\u001b[1;33m\u001b[0m\u001b[0m\n\u001b[0m\u001b[0;32m    269\u001b[0m \u001b[1;33m\u001b[0m\u001b[0m\n\u001b[0;32m    270\u001b[0m     \u001b[1;32mif\u001b[0m \u001b[0mlen\u001b[0m\u001b[1;33m(\u001b[0m\u001b[0mlabels_true\u001b[0m\u001b[1;33m)\u001b[0m \u001b[1;33m==\u001b[0m \u001b[1;36m0\u001b[0m\u001b[1;33m:\u001b[0m\u001b[1;33m\u001b[0m\u001b[0m\n",
      "\u001b[1;32m~\\Anaconda3\\lib\\site-packages\\sklearn\\metrics\\cluster\\supervised.py\u001b[0m in \u001b[0;36mcheck_clusterings\u001b[1;34m(labels_true, labels_pred)\u001b[0m\n\u001b[0;32m     40\u001b[0m     \u001b[1;32mif\u001b[0m \u001b[0mlabels_true\u001b[0m\u001b[1;33m.\u001b[0m\u001b[0mndim\u001b[0m \u001b[1;33m!=\u001b[0m \u001b[1;36m1\u001b[0m\u001b[1;33m:\u001b[0m\u001b[1;33m\u001b[0m\u001b[0m\n\u001b[0;32m     41\u001b[0m         raise ValueError(\n\u001b[1;32m---> 42\u001b[1;33m             \"labels_true must be 1D: shape is %r\" % (labels_true.shape,))\n\u001b[0m\u001b[0;32m     43\u001b[0m     \u001b[1;32mif\u001b[0m \u001b[0mlabels_pred\u001b[0m\u001b[1;33m.\u001b[0m\u001b[0mndim\u001b[0m \u001b[1;33m!=\u001b[0m \u001b[1;36m1\u001b[0m\u001b[1;33m:\u001b[0m\u001b[1;33m\u001b[0m\u001b[0m\n\u001b[0;32m     44\u001b[0m         raise ValueError(\n",
      "\u001b[1;31mValueError\u001b[0m: labels_true must be 1D: shape is ()"
     ]
    }
   ],
   "source": [
    "db = DBSCAN(eps=0.3, min_samples=10).fit(X)\n",
    "core_samples_mask = np.zeros_like(db.labels_, dtype=bool)\n",
    "core_samples_mask[db.core_sample_indices_] = True\n",
    "labels = db.labels_\n",
    "\n",
    "# Number of clusters in labels, ignoring noise if present.\n",
    "n_clusters_ = len(set(labels)) - (1 if -1 in labels else 0)\n",
    "\n",
    "print('Estimated number of clusters: %d' % n_clusters_)\n",
    "print(\"Homogeneity: %0.3f\" % metrics.homogeneity_score(labels_true, labels))\n",
    "print(\"Completeness: %0.3f\" % metrics.completeness_score(labels_true, labels))\n",
    "print(\"V-measure: %0.3f\" % metrics.v_measure_score(labels_true, labels))\n",
    "print(\"Adjusted Rand Index: %0.3f\"\n",
    "      % metrics.adjusted_rand_score(labels_true, labels))\n",
    "print(\"Adjusted Mutual Information: %0.3f\"\n",
    "      % metrics.adjusted_mutual_info_score(labels_true, labels))\n",
    "print(\"Silhouette Coefficient: %0.3f\"\n",
    "      % metrics.silhouette_score(X, labels))"
   ]
  },
  {
   "cell_type": "code",
   "execution_count": null,
   "metadata": {},
   "outputs": [],
   "source": []
  },
  {
   "cell_type": "code",
   "execution_count": null,
   "metadata": {},
   "outputs": [],
   "source": []
  },
  {
   "cell_type": "code",
   "execution_count": null,
   "metadata": {},
   "outputs": [],
   "source": []
  },
  {
   "cell_type": "code",
   "execution_count": null,
   "metadata": {},
   "outputs": [],
   "source": []
  }
 ],
 "metadata": {
  "anaconda-cloud": {},
  "kernelspec": {
   "display_name": "Python 3",
   "language": "python",
   "name": "python3"
  },
  "language_info": {
   "codemirror_mode": {
    "name": "ipython",
    "version": 3
   },
   "file_extension": ".py",
   "mimetype": "text/x-python",
   "name": "python",
   "nbconvert_exporter": "python",
   "pygments_lexer": "ipython3",
   "version": "3.6.4"
  }
 },
 "nbformat": 4,
 "nbformat_minor": 1
}
